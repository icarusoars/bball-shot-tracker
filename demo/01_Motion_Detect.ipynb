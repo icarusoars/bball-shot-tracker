{
 "cells": [
  {
   "cell_type": "code",
   "execution_count": 16,
   "metadata": {},
   "outputs": [],
   "source": [
    "import cv2\n",
    "import numpy as np\n",
    "import imutils"
   ]
  },
  {
   "cell_type": "code",
   "execution_count": null,
   "metadata": {},
   "outputs": [],
   "source": []
  },
  {
   "cell_type": "code",
   "execution_count": null,
   "metadata": {},
   "outputs": [],
   "source": []
  },
  {
   "cell_type": "code",
   "execution_count": null,
   "metadata": {},
   "outputs": [],
   "source": []
  },
  {
   "cell_type": "code",
   "execution_count": 21,
   "metadata": {},
   "outputs": [],
   "source": [
    "def combine_frames(grid_size, frames, combined_width, color = True):\n",
    "    \"\"\"\n",
    "        Expects frames to be a dictionary mapping grid location to frame\n",
    "        (0,0)  (0,1)  (0,2)\n",
    "        (1,0)  (1,1)  (1,2)\n",
    "        Expects all frames to be same dimensions and have same number of color chanels\n",
    "    \"\"\"\n",
    "    color_chanels = frames[(0,0)].shape[2]\n",
    "    height, width = frames[(0,0)].shape[0], frames[(0,0)].shape[1]\n",
    "\n",
    "    combined_frame = np.zeros((height * grid_size[0],\n",
    "                               width  * grid_size[1],\n",
    "                               color_chanels), dtype = \"uint8\")\n",
    "\n",
    "    for (grid_r, grid_c), frame in frames.items():\n",
    "        combined_frame[grid_r * height : (grid_r + 1) * height,\n",
    "                       grid_c * width  : (grid_c + 1) * width , : ] = frame\n",
    "\n",
    "    combined_frame_resized = imutils.resize(combined_frame, width=combined_width)\n",
    "\n",
    "    return combined_frame_resized"
   ]
  },
  {
   "cell_type": "markdown",
   "metadata": {},
   "source": [
    "# Two Frame"
   ]
  },
  {
   "cell_type": "code",
   "execution_count": 26,
   "metadata": {},
   "outputs": [
    {
     "data": {
      "text/plain": [
       "-1"
      ]
     },
     "execution_count": 26,
     "metadata": {},
     "output_type": "execute_result"
    }
   ],
   "source": [
    "prev = cv2.imread('md1.png',cv2.IMREAD_GRAYSCALE)\n",
    "prev = cv2.resize(prev, (960, 540))\n",
    "\n",
    "cur = cv2.imread('md2.png',cv2.IMREAD_GRAYSCALE)\n",
    "cur = cv2.resize(cur, (960, 540))\n",
    "\n",
    "diff = cv2.absdiff(prev, cur)\n",
    "\n",
    "threshold_value = 50\n",
    "set_to_value = 255\n",
    "_, thresh = cv2.threshold(diff, threshold_value, set_to_value, cv2.THRESH_BINARY)\n",
    "\n",
    "\n",
    "combined_frames = {\n",
    "    (0,0): cv2.cvtColor(prev, cv2.COLOR_GRAY2BGR),\n",
    "    (0,1): cv2.cvtColor(cur, cv2.COLOR_GRAY2BGR),\n",
    "    (1,0): cv2.cvtColor(diff, cv2.COLOR_GRAY2BGR),\n",
    "    (1,1): cv2.cvtColor(thresh, cv2.COLOR_GRAY2BGR),\n",
    "}\n",
    "final = combine_frames((2,2), combined_frames, 1280)\n",
    "\n",
    "\n",
    "cv2.imshow('Image',final)\n",
    "cv2.waitKey(0)\n",
    "cv2.destroyAllWindows()\n",
    "cv2.waitKey(1)"
   ]
  },
  {
   "cell_type": "markdown",
   "metadata": {},
   "source": [
    "# Three Frame"
   ]
  },
  {
   "cell_type": "code",
   "execution_count": 82,
   "metadata": {},
   "outputs": [],
   "source": [
    "def get_moving_foreground(prev_frame, frame, next_frame):\n",
    "    \"\"\"\n",
    "        Use Three Frame Difference Approach to get moving Foreground Object\n",
    "        in one frame\n",
    "        Reference this blog post:\n",
    "            https://sam-low.com/opencv/frame-differencing.html\n",
    "    \"\"\"\n",
    "    # get differences between frames to detect motion\n",
    "    diff1 = cv2.absdiff(prev_frame, frame)\n",
    "    diff2 = cv2.absdiff(frame, next_frame)\n",
    "    \n",
    "    # increase contrast between foreground and background by thresholding\n",
    "    threshold_value = 8\n",
    "    set_to_value = ff2, threshold_value, set_to_value, cv2.THRESH_BINARY)\n",
    "    \n",
    "    # find the overlap between the difference frames to get moving object\n",
    "    overlap = cv2.bitwise_and(diff1, diff2)\n",
    "    \n",
    "    # use median filtering to fill some holes of the moving foreground\n",
    "    overlap = cv2.medianBlur(overlap,5)\n",
    "    \n",
    "    return overlap, diff1, diff2"
   ]
  },
  {
   "cell_type": "code",
   "execution_count": 63,
   "metadata": {},
   "outputs": [],
   "source": [
    "prev_frame = cv2.imread('md1.png',cv2.IMREAD_COLOR)\n",
    "prev_frame = cv2.resize(prev_frame, (960, 540))\n",
    "\n",
    "cur_frame = cv2.imread('md2.png',cv2.IMREAD_COLOR)\n",
    "cur_frame = cv2.resize(cur_frame, (960, 540))\n",
    "\n",
    "next_frame = cv2.imread('md3.png',cv2.IMREAD_COLOR)\n",
    "next_frame = cv2.resize(next_frame, (960, 540))\n"
   ]
  },
  {
   "cell_type": "code",
   "execution_count": 60,
   "metadata": {},
   "outputs": [
    {
     "data": {
      "text/plain": [
       "-1"
      ]
     },
     "execution_count": 60,
     "metadata": {},
     "output_type": "execute_result"
    }
   ],
   "source": [
    "cv2.imshow('Image',prev_frame)\n",
    "cv2.waitKey(0)\n",
    "cv2.destroyAllWindows()\n",
    "cv2.waitKey(1)"
   ]
  },
  {
   "cell_type": "code",
   "execution_count": 83,
   "metadata": {},
   "outputs": [],
   "source": [
    "overlap, diff1, diff2 = get_moving_foreground(prev_frame, cur_frame, next_frame)"
   ]
  },
  {
   "cell_type": "code",
   "execution_count": 84,
   "metadata": {},
   "outputs": [
    {
     "data": {
      "text/plain": [
       "-1"
      ]
     },
     "execution_count": 84,
     "metadata": {},
     "output_type": "execute_result"
    }
   ],
   "source": [
    "cv2.imshow('Image',overlap)\n",
    "cv2.waitKey(0)\n",
    "cv2.destroyAllWindows()\n",
    "cv2.waitKey(1)"
   ]
  },
  {
   "cell_type": "code",
   "execution_count": 72,
   "metadata": {},
   "outputs": [
    {
     "data": {
      "text/plain": [
       "-1"
      ]
     },
     "execution_count": 72,
     "metadata": {},
     "output_type": "execute_result"
    }
   ],
   "source": [
    "cv2.imshow('Image',diff1)\n",
    "cv2.waitKey(0)\n",
    "cv2.destroyAllWindows()\n",
    "cv2.waitKey(1)"
   ]
  },
  {
   "cell_type": "code",
   "execution_count": 50,
   "metadata": {},
   "outputs": [
    {
     "data": {
      "text/plain": [
       "-1"
      ]
     },
     "execution_count": 50,
     "metadata": {},
     "output_type": "execute_result"
    }
   ],
   "source": [
    "cv2.imshow('Image',diff2)\n",
    "cv2.waitKey(0)\n",
    "cv2.destroyAllWindows()\n",
    "cv2.waitKey(1)"
   ]
  },
  {
   "cell_type": "code",
   "execution_count": null,
   "metadata": {},
   "outputs": [],
   "source": []
  }
 ],
 "metadata": {
  "kernelspec": {
   "display_name": "Python 3",
   "language": "python",
   "name": "python3"
  },
  "language_info": {
   "codemirror_mode": {
    "name": "ipython",
    "version": 3
   },
   "file_extension": ".py",
   "mimetype": "text/x-python",
   "name": "python",
   "nbconvert_exporter": "python",
   "pygments_lexer": "ipython3",
   "version": "3.7.7"
  }
 },
 "nbformat": 4,
 "nbformat_minor": 4
}
