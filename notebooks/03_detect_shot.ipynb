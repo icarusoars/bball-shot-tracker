{
 "cells": [
  {
   "cell_type": "markdown",
   "metadata": {},
   "source": [
    "# Detecting Whether a Shot Has Happened\n",
    "\n",
    "I found out that it is very costly to run detectron keypoint detector and instance predictor on every single frame of a video.\n",
    "Even with GPU acceleration, processing one second of a video takes around (24 frames) x 1 second = 24 seconds\n",
    "\n",
    "Thus, it is important to identify the parts of the video where a shot is happening first.\n",
    "\n",
    "Inspired by: https://www.youtube.com/watch?v=QKVpIo5sfGA"
   ]
  },
  {
   "cell_type": "code",
   "execution_count": 3,
   "metadata": {},
   "outputs": [],
   "source": [
    "import skvideo.io\n",
    "import skvideo.datasets\n",
    "\n",
    "import cv2"
   ]
  },
  {
   "cell_type": "code",
   "execution_count": 8,
   "metadata": {},
   "outputs": [],
   "source": [
    "def get_frame_difference(frame, prev_frames = []):\n",
    "    \"\"\"\n",
    "        Returns the current\n",
    "    \"\"\"\n",
    "    \n",
    "    \n",
    "    \n",
    "    pass"
   ]
  },
  {
   "cell_type": "code",
   "execution_count": 10,
   "metadata": {},
   "outputs": [],
   "source": [
    "cap = cv2.VideoCapture(0)\n",
    "ret, current_frame = cap.read()\n",
    "previous_frame = current_frame\n",
    "\n",
    "while(cap.isOpened()):\n",
    "    current_frame_gray = cv2.cvtColor(current_frame, cv2.COLOR_BGR2GRAY)\n",
    "    previous_frame_gray = cv2.cvtColor(previous_frame, cv2.COLOR_BGR2GRAY)    \n",
    "\n",
    "    frame_diff = cv2.absdiff(current_frame_gray, previous_frame_gray)\n",
    "\n",
    "    cv2.imshow('frame diff ',frame_diff)      \n",
    "    if cv2.waitKey(1) & 0xFF == ord('q'):\n",
    "        break\n",
    "\n",
    "    previous_frame = current_frame.copy()\n",
    "    ret, current_frame = cap.read()\n",
    "\n",
    "cap.release()\n",
    "cv2.destroyAllWindows()"
   ]
  },
  {
   "cell_type": "code",
   "execution_count": null,
   "metadata": {},
   "outputs": [],
   "source": []
  }
 ],
 "metadata": {
  "kernelspec": {
   "display_name": "Python 3",
   "language": "python",
   "name": "python3"
  },
  "language_info": {
   "codemirror_mode": {
    "name": "ipython",
    "version": 3
   },
   "file_extension": ".py",
   "mimetype": "text/x-python",
   "name": "python",
   "nbconvert_exporter": "python",
   "pygments_lexer": "ipython3",
   "version": "3.7.7"
  }
 },
 "nbformat": 4,
 "nbformat_minor": 4
}
