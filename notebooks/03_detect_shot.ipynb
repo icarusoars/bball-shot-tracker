{
 "cells": [
  {
   "cell_type": "markdown",
   "metadata": {},
   "source": [
    "# Detecting Whether a Shot Has Happened\n",
    "\n",
    "I found out that it is very costly to run detectron keypoint detector and instance predictor on every single frame of a video.\n",
    "Even with GPU acceleration, processing one second of a video takes around (24 frames) x 1 second = 24 seconds\n",
    "\n",
    "Thus, it is important to identify the parts of the video where a shot is happening first using a non-DeepLearning method.\n",
    "\n",
    "This notebook uses non-compute intensive image-processing techniques to locate the basketball and determine when a shot is happening.\n",
    "\n",
    "Inspired by: https://www.youtube.com/watch?v=QKVpIo5sfGA"
   ]
  },
  {
   "cell_type": "code",
   "execution_count": 1,
   "metadata": {},
   "outputs": [],
   "source": [
    "# import skvideo.io\n",
    "# import skvideo.datasets\n",
    "\n",
    "from collections import deque\n",
    "\n",
    "import cv2\n",
    "import imutils\n",
    "import numpy as np\n",
    "import pandas as pd\n",
    "import math\n",
    "import matplotlib.pyplot as plt\n",
    "\n",
    "pd.options.display.max_rows = 1000"
   ]
  },
  {
   "cell_type": "code",
   "execution_count": null,
   "metadata": {},
   "outputs": [],
   "source": []
  },
  {
   "cell_type": "markdown",
   "metadata": {},
   "source": [
    "# Test a Function on an Image"
   ]
  },
  {
   "cell_type": "code",
   "execution_count": 2,
   "metadata": {},
   "outputs": [],
   "source": [
    "image = cv2.imread(\"../data/shooting_vids/blah2.png\")\n",
    "output = image.copy()\n",
    "gray = cv2.cvtColor(image, cv2.COLOR_BGR2GRAY)\n",
    "\n",
    "# output = locate_bball(gray, output)\n",
    "# output = get_connected_components(gray, output)"
   ]
  },
  {
   "cell_type": "code",
   "execution_count": 3,
   "metadata": {},
   "outputs": [
    {
     "data": {
      "text/plain": [
       "(474, 906, 3)"
      ]
     },
     "execution_count": 3,
     "metadata": {},
     "output_type": "execute_result"
    }
   ],
   "source": [
    "image.shape"
   ]
  },
  {
   "cell_type": "code",
   "execution_count": 4,
   "metadata": {},
   "outputs": [
    {
     "data": {
      "text/plain": [
       "-1"
      ]
     },
     "execution_count": 4,
     "metadata": {},
     "output_type": "execute_result"
    }
   ],
   "source": [
    "cv2.imshow(\"test result\", np.hstack([output]))\n",
    "cv2.waitKey(0)\n",
    "cv2.destroyAllWindows()\n",
    "cv2.waitKey(1)"
   ]
  },
  {
   "cell_type": "markdown",
   "metadata": {},
   "source": [
    "# Frame Processing Functions\n",
    "\n",
    "(some functions are unused in the pipeline. Just there because I experimented different image processing methodologies)"
   ]
  },
  {
   "cell_type": "code",
   "execution_count": 2,
   "metadata": {},
   "outputs": [],
   "source": [
    "def get_moving_foreground(prev_frame, frame, next_frame):\n",
    "    \"\"\"\n",
    "        Use Three Frame Difference Approach to get moving Foreground Object\n",
    "        in one frame\n",
    "        Reference this blog post:\n",
    "            https://sam-low.com/opencv/frame-differencing.html\n",
    "    \"\"\"\n",
    "    # get differences between frames to detect motion\n",
    "    diff1 = cv2.absdiff(prev_frame, frame)\n",
    "    diff2 = cv2.absdiff(frame, next_frame)\n",
    "    \n",
    "    # increase contrast between foreground and background by thresholding\n",
    "    threshold_value = 10\n",
    "    set_to_value = 255\n",
    "    _, diff1 = cv2.threshold(diff1, threshold_value, set_to_value, cv2.THRESH_BINARY)\n",
    "    _, diff2 = cv2.threshold(diff2, threshold_value, set_to_value, cv2.THRESH_BINARY)\n",
    "    \n",
    "    # find the overlap between the difference frames to get moving object\n",
    "    overlap = cv2.bitwise_and(diff1, diff2)\n",
    "    \n",
    "    # use median filtering to fill some holes of the moving foreground\n",
    "    overlap = cv2.medianBlur(overlap,5)\n",
    "    \n",
    "    return overlap"
   ]
  },
  {
   "cell_type": "code",
   "execution_count": 3,
   "metadata": {},
   "outputs": [],
   "source": [
    "def frame_subtraction(bg_frame, cur_frame):\n",
    "    \n",
    "    \"\"\"\n",
    "        This process of subtracting current frame from bg reference frame\n",
    "        DOES NOT work well.\n",
    "        This is because if the camera tilts or shifts slightly the difference\n",
    "        will be huge. If the leaves of the trees rustle in the background, then\n",
    "        the difference will be picked up too.\n",
    "    \"\"\"\n",
    "    \n",
    "    print(type(bg_frame))\n",
    "    print(type(cur_frame))\n",
    "    \n",
    "    diff = cv2.absdiff(bg_frame, cur_frame)\n",
    "    \n",
    "    threshold_value = 10\n",
    "    set_to_value = 255\n",
    "    _, diff = cv2.threshold(diff, threshold_value, set_to_value, cv2.THRESH_BINARY)\n",
    "    \n",
    "    # use median filtering to fill some holes of the moving foreground\n",
    "    diff = cv2.medianBlur(diff,5)\n",
    "    \n",
    "    return diff"
   ]
  },
  {
   "cell_type": "code",
   "execution_count": 4,
   "metadata": {},
   "outputs": [],
   "source": [
    "def preprocess_vid_frame(frame):\n",
    "    \"\"\"\n",
    "        Do some preprocessing work on a frame of a video to \n",
    "        make it ready for image processing techniques.\n",
    "        1) Convert frame to grayscale\n",
    "        2) Apply gaussian blur to get rid of noise\n",
    "    \"\"\"\n",
    "    # convert frame to grayscale\n",
    "    new_frame = cv2.cvtColor(frame, cv2.COLOR_BGR2GRAY)\n",
    "    # gaussian blur with 5x5 kernel\n",
    "    new_frame = cv2.GaussianBlur(new_frame,(5,5), 0)\n",
    "    \n",
    "    return new_frame"
   ]
  },
  {
   "cell_type": "code",
   "execution_count": 5,
   "metadata": {},
   "outputs": [],
   "source": [
    "def stack_frames(frames):\n",
    "    \"\"\"\n",
    "        Use bitwise OR to stack frames together\n",
    "    \"\"\"\n",
    "    res = cv2.bitwise_or(frames[0], frames[1])\n",
    "    \n",
    "    for i in range(2, len(frames)):\n",
    "        res = cv2.bitwise_or(res, frames[i])\n",
    "    \n",
    "    return res"
   ]
  },
  {
   "cell_type": "code",
   "execution_count": 6,
   "metadata": {},
   "outputs": [],
   "source": [
    "def shot_parabola(frame):\n",
    "    \"\"\"\n",
    "        Determine if a shot parabola exists in frame\n",
    "    \"\"\"\n",
    "    \n",
    "    frame = cv2.Canny(frame,threshold1 = 70, threshold2 = 120)\n",
    "#     cv2.imshow('canny parabola', frame)"
   ]
  },
  {
   "cell_type": "code",
   "execution_count": 7,
   "metadata": {},
   "outputs": [],
   "source": [
    "def locate_bball(frame, output):\n",
    "    \"\"\"\n",
    "        Use Hough Circle method\n",
    "        to locate basketball in frame\n",
    "        \n",
    "        Reference: https://www.pyimagesearch.com/2014/07/21/\n",
    "                   detecting-circles-images-using-opencv-hough-circles/\n",
    "        \n",
    "        output frame is the frame you want to draw the\n",
    "        identifier circle on\n",
    "    \"\"\"\n",
    "    \n",
    "    # canny edge test\n",
    "    frame = cv2.Canny(frame,threshold1 = 70, threshold2 = 120)\n",
    "#     cv2.imshow('canny edge', frame)\n",
    "    \n",
    "    \n",
    "    circles = cv2.HoughCircles(frame, cv2.HOUGH_GRADIENT, dp = 2, minDist = 400,\n",
    "                               param1 = 5, param2 = 65,\n",
    "                               minRadius = 0, maxRadius = 60)\n",
    "    \n",
    "#     circles = cv2.HoughCircles(frame, cv2.HOUGH_GRADIENT, dp = 5, minDist = 20,\n",
    "#                                param1 = 50, param2 = 100,\n",
    "#                                minRadius = 0, maxRadius = 300)\n",
    "\n",
    "    if circles is not None:\n",
    "        circles = np.round(circles[0, :]).astype(\"int\")\n",
    "        \n",
    "        for (x,y,r) in circles:\n",
    "            # draw the outer circle\n",
    "            cv2.circle(output, (x, y), r, (0, 255, 0), 4)\n",
    "            # draw the center of the circle\n",
    "            cv2.circle(output, (x, y), 2, (0, 255, 0), 3)\n",
    "    \n",
    "    return output"
   ]
  },
  {
   "cell_type": "code",
   "execution_count": 8,
   "metadata": {},
   "outputs": [],
   "source": [
    "def get_connected_components(frame, output):\n",
    "    \"\"\"\n",
    "        Get connected pixel blobs\n",
    "        Reference: https://stackoverflow.com/questions/35854197/\n",
    "                   how-to-use-opencvs-connected-components-with-stats-in-python\n",
    "                   \n",
    "        Input frame is a frame that has been thresholded\n",
    "        Output frame is frame to draw connected component results on\n",
    "    \"\"\"\n",
    "    \n",
    "    connectivity = 4\n",
    "    num_labels, labels, stats, centroids = cv2.connectedComponentsWithStats(frame,\n",
    "                                                                            connectivity,\n",
    "                                                                            cv2.CV_32S)\n",
    "    \n",
    "    for (x,y) in centroids:\n",
    "        # draw the center of the circle\n",
    "        x, y = int(x), int(y)\n",
    "        cv2.circle(output, (x, y), 2, (0, 255, 0), 3)\n",
    "        \n",
    "    return output"
   ]
  },
  {
   "cell_type": "code",
   "execution_count": 9,
   "metadata": {},
   "outputs": [],
   "source": [
    "def get_blobs(frame, output):\n",
    "    \"\"\"\n",
    "        Get all the blobs (connected components of white pixels)\n",
    "        in a thresholded black and white image\n",
    "        \n",
    "        Reference: https://www.pyimagesearch.com/2015/05/25/\n",
    "                   basic-motion-detection-and-tracking-with-python-and-opencv/\n",
    "                   \n",
    "        Blobs info is a list of dictionaries containing coordinates\n",
    "        and size of blobs\n",
    "    \"\"\"\n",
    "    \n",
    "    cnts = cv2.findContours(frame, cv2.RETR_EXTERNAL, cv2.CHAIN_APPROX_SIMPLE)\n",
    "    cnts = imutils.grab_contours(cnts)\n",
    "    \n",
    "    blobs_info = []\n",
    "    \n",
    "    # loop over the contours\n",
    "    for c in cnts:\n",
    "        # if the contour is too small, ignore it\n",
    "        if cv2.contourArea(c) < 100:\n",
    "            continue\n",
    "            \n",
    "        # find the bounding box for the contour\n",
    "        (x, y, w, h) = cv2.boundingRect(c)\n",
    "        cv2.rectangle(output, (x, y), (x + w, y + h), (0, 255, 0), 2)\n",
    "        \n",
    "        # store blobs information into list of dictionaries\n",
    "        b_info = {}\n",
    "        b_info['x'], b_info['y'] = x, y\n",
    "        b_info['width'], b_info['height'] = w, h\n",
    "        \n",
    "        blobs_info.append(b_info)\n",
    "    \n",
    "    return output, blobs_info"
   ]
  },
  {
   "cell_type": "code",
   "execution_count": 10,
   "metadata": {},
   "outputs": [],
   "source": [
    "def opening(frame):\n",
    "    \n",
    "    kernel = np.ones((5,5),np.uint8)\n",
    "    closing = cv2.morphologyEx(frame, cv2.MORPH_OPEN, kernel)\n",
    "    \n",
    "    return closing"
   ]
  },
  {
   "cell_type": "code",
   "execution_count": 11,
   "metadata": {},
   "outputs": [],
   "source": [
    "def closing(frame):\n",
    "    \n",
    "    kernel = np.ones((15,15),np.uint8)\n",
    "    closing = cv2.morphologyEx(frame, cv2.MORPH_CLOSE, kernel)\n",
    "    \n",
    "    return closing"
   ]
  },
  {
   "cell_type": "markdown",
   "metadata": {},
   "source": [
    "# Utility Function to combine multiple frames into one frame for convenient plotting"
   ]
  },
  {
   "cell_type": "code",
   "execution_count": 12,
   "metadata": {},
   "outputs": [],
   "source": [
    "def combine_frames(grid_size, frames, combined_width):\n",
    "    \"\"\"\n",
    "        Expects frames to be a dictionary mapping grid location to frame\n",
    "        (0,0)  (0,1)  (0,2)\n",
    "        (1,0)  (1,1)  (1,2)\n",
    "        Expects all frames to be same dimensions and have same number of color chanels\n",
    "    \"\"\"\n",
    "    color_chanels = frames[(0,0)].shape[2]\n",
    "    height, width = frames[(0,0)].shape[0], frames[(0,0)].shape[1]\n",
    "    \n",
    "    combined_frame = np.zeros((height * grid_size[0],\n",
    "                               width  * grid_size[1],\n",
    "                               color_chanels), dtype = \"uint8\")\n",
    "    \n",
    "    for (grid_r, grid_c), frame in frames.items():\n",
    "        combined_frame[grid_r * height : (grid_r + 1) * height,\n",
    "                       grid_c * width  : (grid_c + 1) * width , : ] = frame\n",
    "    \n",
    "    combined_frame_resized = imutils.resize(combined_frame, width=combined_width)\n",
    "#     cv2.imshow(combined_frame_resized)\n",
    "    \n",
    "    return combined_frame_resized"
   ]
  },
  {
   "cell_type": "code",
   "execution_count": 16,
   "metadata": {},
   "outputs": [
    {
     "data": {
      "text/plain": [
       "-1"
      ]
     },
     "execution_count": 16,
     "metadata": {},
     "output_type": "execute_result"
    }
   ],
   "source": [
    "frames = {\n",
    "    (0,0) : image,\n",
    "    (0,1) : image\n",
    "}\n",
    "combined = combine_frames(grid_size = (2,3), frames = frames, combined_width = 1500)\n",
    "\n",
    "cv2.imshow(\"Combined frames\", combined)\n",
    "cv2.waitKey(0)\n",
    "cv2.destroyAllWindows()\n",
    "cv2.waitKey(1)"
   ]
  },
  {
   "cell_type": "markdown",
   "metadata": {},
   "source": [
    "# Run Video Processing - Find all blobs"
   ]
  },
  {
   "cell_type": "code",
   "execution_count": 119,
   "metadata": {},
   "outputs": [],
   "source": [
    "def find_blobs(video):\n",
    "    # record the last 3 frames of video for foreground detection\n",
    "    frames = deque()\n",
    "    frames.append(video.read()[1])\n",
    "    frames.append(video.read()[1])\n",
    "    frames.append(video.read()[1])\n",
    "\n",
    "    # record the last 50 frames of foreground detection for frame stacking\n",
    "    frames_foreground = deque()\n",
    "\n",
    "\n",
    "    # record blobs information\n",
    "    blobs_info = []\n",
    "\n",
    "    frame_count = 0\n",
    "    while(video.isOpened()):\n",
    "        frame_count += 1\n",
    "\n",
    "        # current frame of consideration is the middle frame in frames deque\n",
    "        cur_frame = frames[1]\n",
    "        cur_frame = preprocess_vid_frame(cur_frame)\n",
    "\n",
    "        # find moving foreground\n",
    "        foreground = get_moving_foreground(preprocess_vid_frame(frames[0]), \n",
    "                                           preprocess_vid_frame(frames[1]),\n",
    "                                           preprocess_vid_frame(frames[2]))\n",
    "        \n",
    "        \n",
    "        # use closing technique to \"close up\" blobs\n",
    "        foreground = opening(foreground)\n",
    "        foreground = closing(foreground)\n",
    "        \n",
    "\n",
    "\n",
    "        # find blobs and record blobs information\n",
    "        blobs_frame = cv2.cvtColor(foreground, cv2.COLOR_GRAY2RGB)\n",
    "        blobs_frame, frame_blobs_info = get_blobs(foreground, blobs_frame)\n",
    "#         blobs_frame_2, _ = get_blobs(foreground, cv2.cvtColor(foreground, cv2.COLOR_GRAY2RGB))\n",
    "        \n",
    "        # frame_blobs_info contains all information of blobs for current frame\n",
    "        frame_blobs_info = [{**{'frame_idx': frame_count}, **fbi} for fbi in frame_blobs_info]\n",
    "        blobs_info.extend(frame_blobs_info)\n",
    "        \n",
    "\n",
    "\n",
    "        # stack last 10 foreground frames together\n",
    "#         frames_foreground.append(foreground)\n",
    "#         if (len(frames_foreground) > 50):\n",
    "#             frames_foreground.popleft()\n",
    "#             stacked_foregrounds = stack_frames(frames_foreground)\n",
    "# #             cv2.imshow('Foregrounds stacked', stacked_foregrounds)\n",
    "# #             shot_parabola(stacked_foregrounds)\n",
    "\n",
    "\n",
    "        f = {\n",
    "            (0,0): frames[1],\n",
    "            (0,1): cv2.cvtColor(foreground, cv2.COLOR_GRAY2RGB),\n",
    "            (1,0): blobs_frame\n",
    "        }\n",
    "        r = combine_frames((2,2), f, 1600)\n",
    "        cv2.imshow('Original & Foreground', r)\n",
    "\n",
    "\n",
    "        if cv2.waitKey(5) & 0xFF == ord('q'):\n",
    "            break\n",
    "\n",
    "        # get next frame\n",
    "        frames.popleft()\n",
    "        ret, next_frame = video.read()\n",
    "        if ret == False:\n",
    "            break\n",
    "        frames.append(next_frame)\n",
    "        \n",
    "        \n",
    "    \n",
    "    width  = video.get(cv2.CAP_PROP_FRAME_WIDTH)\n",
    "    height = video.get(cv2.CAP_PROP_FRAME_HEIGHT)\n",
    "    \n",
    "    video.release()\n",
    "    cv2.destroyAllWindows()\n",
    "    cv2.waitKey(1)\n",
    "\n",
    "    blobs_df = pd.DataFrame(blobs_info)\n",
    "    \n",
    "    return blobs_df, (width, height)"
   ]
  },
  {
   "cell_type": "code",
   "execution_count": 122,
   "metadata": {},
   "outputs": [],
   "source": [
    "video = cv2.VideoCapture(\"../data/shooting_vids/shooting3.mp4\")\n",
    "# video = cv2.VideoCapture(\"../data/shooting_vids/steph_curry.mp4\")\n",
    "\n",
    "blobs_df, frame_dim = find_blobs(video)\n",
    "# blobs_df.to_csv(\"blobs_df.csv\")"
   ]
  },
  {
   "cell_type": "code",
   "execution_count": 123,
   "metadata": {},
   "outputs": [
    {
     "data": {
      "text/html": [
       "<div>\n",
       "<style scoped>\n",
       "    .dataframe tbody tr th:only-of-type {\n",
       "        vertical-align: middle;\n",
       "    }\n",
       "\n",
       "    .dataframe tbody tr th {\n",
       "        vertical-align: top;\n",
       "    }\n",
       "\n",
       "    .dataframe thead th {\n",
       "        text-align: right;\n",
       "    }\n",
       "</style>\n",
       "<table border=\"1\" class=\"dataframe\">\n",
       "  <thead>\n",
       "    <tr style=\"text-align: right;\">\n",
       "      <th></th>\n",
       "      <th>frame_idx</th>\n",
       "      <th>x</th>\n",
       "      <th>y</th>\n",
       "      <th>width</th>\n",
       "      <th>height</th>\n",
       "    </tr>\n",
       "  </thead>\n",
       "  <tbody>\n",
       "    <tr>\n",
       "      <th>0</th>\n",
       "      <td>10</td>\n",
       "      <td>837</td>\n",
       "      <td>433</td>\n",
       "      <td>43</td>\n",
       "      <td>9</td>\n",
       "    </tr>\n",
       "    <tr>\n",
       "      <th>1</th>\n",
       "      <td>10</td>\n",
       "      <td>103</td>\n",
       "      <td>331</td>\n",
       "      <td>45</td>\n",
       "      <td>25</td>\n",
       "    </tr>\n",
       "    <tr>\n",
       "      <th>2</th>\n",
       "      <td>10</td>\n",
       "      <td>913</td>\n",
       "      <td>286</td>\n",
       "      <td>23</td>\n",
       "      <td>12</td>\n",
       "    </tr>\n",
       "    <tr>\n",
       "      <th>3</th>\n",
       "      <td>10</td>\n",
       "      <td>196</td>\n",
       "      <td>202</td>\n",
       "      <td>31</td>\n",
       "      <td>13</td>\n",
       "    </tr>\n",
       "    <tr>\n",
       "      <th>4</th>\n",
       "      <td>10</td>\n",
       "      <td>829</td>\n",
       "      <td>168</td>\n",
       "      <td>13</td>\n",
       "      <td>21</td>\n",
       "    </tr>\n",
       "    <tr>\n",
       "      <th>5</th>\n",
       "      <td>10</td>\n",
       "      <td>196</td>\n",
       "      <td>102</td>\n",
       "      <td>16</td>\n",
       "      <td>11</td>\n",
       "    </tr>\n",
       "    <tr>\n",
       "      <th>6</th>\n",
       "      <td>10</td>\n",
       "      <td>97</td>\n",
       "      <td>101</td>\n",
       "      <td>40</td>\n",
       "      <td>8</td>\n",
       "    </tr>\n",
       "    <tr>\n",
       "      <th>7</th>\n",
       "      <td>10</td>\n",
       "      <td>736</td>\n",
       "      <td>64</td>\n",
       "      <td>23</td>\n",
       "      <td>10</td>\n",
       "    </tr>\n",
       "    <tr>\n",
       "      <th>8</th>\n",
       "      <td>10</td>\n",
       "      <td>786</td>\n",
       "      <td>19</td>\n",
       "      <td>20</td>\n",
       "      <td>17</td>\n",
       "    </tr>\n",
       "    <tr>\n",
       "      <th>9</th>\n",
       "      <td>10</td>\n",
       "      <td>183</td>\n",
       "      <td>13</td>\n",
       "      <td>19</td>\n",
       "      <td>15</td>\n",
       "    </tr>\n",
       "  </tbody>\n",
       "</table>\n",
       "</div>"
      ],
      "text/plain": [
       "   frame_idx    x    y  width  height\n",
       "0         10  837  433     43       9\n",
       "1         10  103  331     45      25\n",
       "2         10  913  286     23      12\n",
       "3         10  196  202     31      13\n",
       "4         10  829  168     13      21\n",
       "5         10  196  102     16      11\n",
       "6         10   97  101     40       8\n",
       "7         10  736   64     23      10\n",
       "8         10  786   19     20      17\n",
       "9         10  183   13     19      15"
      ]
     },
     "execution_count": 123,
     "metadata": {},
     "output_type": "execute_result"
    }
   ],
   "source": [
    "blobs_df.head(10)"
   ]
  },
  {
   "cell_type": "markdown",
   "metadata": {},
   "source": [
    "# Function to Find Bball Blobs"
   ]
  },
  {
   "cell_type": "code",
   "execution_count": 17,
   "metadata": {},
   "outputs": [],
   "source": [
    "def find_bball_blobs(blobs_info_df, frame_size):\n",
    "    \"\"\"\n",
    "        Find all the blobs that are the basketball and label them\n",
    "        This algo labels the highest blobs as basketballs and tracks these blobs\n",
    "        through time until it is no longer confident the blob is a basketball.\n",
    "        \n",
    "        Each row in blobs_info_df represents one blob opencv found in video\n",
    "        The dataframe is indexed by blob_idx, but each blob also has a frame_idx.\n",
    "        One frame may have multiple blobs!\n",
    "    \"\"\"\n",
    "    \n",
    "    blobs_df = blobs_info_df.copy(deep = True)\n",
    "    \n",
    "    # convert y axis so that it goes from bottom to top\n",
    "    blobs_df['y'] = frame_size[1] - blobs_df['y']\n",
    "    \n",
    "    # create column in pandas dataframe for labeling blob as bball\n",
    "    blobs_df['is_bball'] = False\n",
    "    \n",
    "    # hyperparameters to determine what blobs count as a basketball\n",
    "    # I personally tuned these hyperparameters by trial & observation\n",
    "    # to minimize the number of false positive & false negative basketballs \n",
    "    # (prioritizing minimizing false positives)\n",
    "    BLOB_DIST     = 100      # the maximum distance allowed between two basketball blobs\n",
    "    BLOB_SIZE_TOL = 0.3      # the percentage of difference in dimensions allowed between 2 bball blobs\n",
    "    FRAMES_TOL    = 15       # the number of frames allowed to not see a bball blob before detection stops\n",
    "    BLOB_MAX      = 1        # the maximum number of blobs that qualify allowed for bball to be returned\n",
    "    \n",
    "    \n",
    "    def get_dist(row, cur_x, cur_y):\n",
    "        \"\"\"\n",
    "            Get distance between blob of current row\n",
    "            and the blob with coordinates provided\n",
    "        \"\"\"\n",
    "        return ((row['x'] - cur_x)**2 + (row['y'] - cur_y)**2)**(1/2)\n",
    "\n",
    "    def similar_shape(row, cur_w, cur_h):\n",
    "        \"\"\"\n",
    "            Determine if the dimensions of blob of current row are similar\n",
    "            to those dimensions provided.\n",
    "        \"\"\"\n",
    "        new_w, new_h = row['width'], row['height']\n",
    "        tol_w, tol_h = cur_w * BLOB_SIZE_TOL, cur_h * BLOB_SIZE_TOL\n",
    "\n",
    "        tol_w_lower, tol_w_upper = cur_w - tol_w, cur_w + tol_w\n",
    "        tol_h_lower, tol_h_upper = cur_h - tol_h, cur_h + tol_h\n",
    "\n",
    "        return (new_w >= tol_w_lower and new_w <= tol_w_upper and\n",
    "                new_h >= tol_h_lower and new_h <= tol_h_upper)\n",
    "        \n",
    "#         return True\n",
    "\n",
    "    def find_ball_blob(blob_idx, time_forward):\n",
    "        \"\"\"\n",
    "            Find the ball blob that is closest to the current ball blob\n",
    "            that is similar in size timewise. Return None is no ball \n",
    "            blob can be found\n",
    "        \"\"\"\n",
    "        cur_blob = blobs_df.loc[blob_idx]\n",
    "        cur_x, cur_y = cur_blob['x'], cur_blob['y']\n",
    "        cur_w, cur_h = cur_blob['width'], cur_blob['height']\n",
    "        \n",
    "        \n",
    "        # get current blob's frame index\n",
    "        frame_idx = blobs_df.loc[blob_idx]['frame_idx']\n",
    "        \n",
    "        # check the next FRAMES_TOL frames for blob that is basketball\n",
    "        # (some frames there might not be a basketball detected.\n",
    "        #  don't let these frames discontinue basketball detection)\n",
    "        frame_count = 0\n",
    "        while (frame_count < FRAMES_TOL):\n",
    "            # get all the blobs one timestep forward or one timestep backwards\n",
    "            frame_idx = (frame_idx + 1) if time_forward else (frame_idx - 1)\n",
    "            blobs = blobs_df[blobs_df['frame_idx'] == frame_idx].copy(deep = True)\n",
    "            if blobs.empty:\n",
    "                break\n",
    "            \n",
    "            # find the distance of all blobs to current blob\n",
    "            blobs['distance'] = blobs.apply(get_dist, cur_x = cur_x, cur_y = cur_y, axis = 1)\n",
    "\n",
    "            # determine if blobs are similar shape to current blob\n",
    "            blobs['similar_shape'] = blobs.apply(similar_shape, cur_w = cur_w, cur_h = cur_h, axis = 1)\n",
    "\n",
    "            # rows with nans will evaluate to False & False!\n",
    "            valid_blobs = blobs[(blobs['distance'] < BLOB_DIST) & (blobs['similar_shape'])]\n",
    "            valid_blobs = valid_blobs.sort_values(by = ['similar_shape', 'distance'],\n",
    "                                                  ascending = [False, True])\n",
    "\n",
    "            # only return most confident blob index if there is less than BLOB_MAX valid blobs\n",
    "            if valid_blobs.shape[0] == 0 or valid_blobs.shape[0] > BLOB_MAX:\n",
    "                frame_count += 1\n",
    "            else:\n",
    "#                 print(\"returned something useful\")\n",
    "                return valid_blobs.index[0]\n",
    "        \n",
    "        return None\n",
    "    \n",
    "    def get_idx_ranges(indices):\n",
    "        \"\"\"\n",
    "            Get the start and end value of continuous indices\n",
    "            [1,2,3,4,7,8,9,14,15,16] --> [(1,4), (7,9), (14,16)]\n",
    "            \n",
    "            Expects a sorted list of indices\n",
    "        \"\"\"\n",
    "        start, end = indices[0], 0\n",
    "        cur = start + 1\n",
    "        index_ranges = []\n",
    "        for i in indices[1:]:\n",
    "            if i != cur:\n",
    "                end = cur - 1\n",
    "                index_ranges.append((start, end))\n",
    "                start = i\n",
    "                cur = i + 1\n",
    "            else:\n",
    "                cur += 1\n",
    "            if i == indices[-1]:\n",
    "                end = i\n",
    "                index_ranges.append((start, end))\n",
    "        return index_ranges\n",
    "    \n",
    "    \n",
    "    \n",
    "    # any blob above 95% of max blob height is considered bball\n",
    "    # the 95% is used to account for varying shot arcs (ball reaches different heights)\n",
    "    ball_max_height = blobs_df['y'].max()\n",
    "    ball_effective_height = ball_max_height * 0.80\n",
    "    blobs_df.loc[blobs_df['y'] >= ball_effective_height, 'is_bball'] = True\n",
    "    \n",
    "    \n",
    "    # get the indices of is_bball == True already\n",
    "    ball_idxs = blobs_df.index[blobs_df['is_bball']].tolist()\n",
    "    ball_idx_ranges = get_idx_ranges(ball_idxs)\n",
    "\n",
    "    for (ball_start, ball_end) in ball_idx_ranges:\n",
    "        \n",
    "        print((ball_start, ball_end))\n",
    "        \n",
    "        # trace balls backwards and forwards\n",
    "        for time_forward in [True, False]:\n",
    "        \n",
    "            # trace the balls until they can't be found\n",
    "            ball_idx = ball_end if time_forward else ball_start\n",
    "            cnt = 0\n",
    "            while(True):\n",
    "                cnt += 1\n",
    "                # get previous or next ball index\n",
    "                ball_idx = find_ball_blob(ball_idx, time_forward = time_forward)\n",
    "                # if no ball is found, stop looking\n",
    "                if ball_idx is None:\n",
    "                    if time_forward:\n",
    "                        print(f\"Time forwards : {cnt} number of balls found\")\n",
    "                    if not time_forward:\n",
    "                        print(f\"Time backwards: {cnt} number of balls found\")\n",
    "                    break\n",
    "                # label ball\n",
    "                blobs_df.loc[ball_idx, \"is_bball\"] = True\n",
    "        \n",
    "    \n",
    "    # convert y axis back so that it can be plotted by opencv\n",
    "    blobs_df['y'] = frame_dim[1] - blobs_df['y']\n",
    "    \n",
    "    return blobs_df"
   ]
  },
  {
   "cell_type": "code",
   "execution_count": 144,
   "metadata": {
    "collapsed": true,
    "jupyter": {
     "outputs_hidden": true
    }
   },
   "outputs": [
    {
     "name": "stdout",
     "output_type": "stream",
     "text": [
      "(5, 11)\n",
      "Time forwards : 3 number of balls found\n",
      "Time backwards: 1 number of balls found\n",
      "(30, 44)\n",
      "Time forwards : 1 number of balls found\n",
      "Time backwards: 1 number of balls found\n",
      "(66, 72)\n",
      "Time forwards : 1 number of balls found\n",
      "Time backwards: 2 number of balls found\n",
      "(94, 106)\n",
      "Time forwards : 3 number of balls found\n",
      "Time backwards: 2 number of balls found\n",
      "(128, 141)\n",
      "Time forwards : 1 number of balls found\n",
      "Time backwards: 1 number of balls found\n",
      "(163, 177)\n",
      "Time forwards : 1 number of balls found\n",
      "Time backwards: 2 number of balls found\n",
      "(200, 211)\n",
      "Time forwards : 1 number of balls found\n",
      "Time backwards: 3 number of balls found\n",
      "(227, 233)\n",
      "Time forwards : 2 number of balls found\n",
      "Time backwards: 1 number of balls found\n",
      "(235, 235)\n",
      "Time forwards : 1 number of balls found\n",
      "Time backwards: 3 number of balls found\n",
      "(239, 242)\n",
      "Time forwards : 1 number of balls found\n",
      "Time backwards: 1 number of balls found\n",
      "(263, 263)\n",
      "Time forwards : 1 number of balls found\n",
      "Time backwards: 1 number of balls found\n",
      "(267, 267)\n",
      "Time forwards : 1 number of balls found\n",
      "Time backwards: 1 number of balls found\n",
      "(270, 270)\n",
      "Time forwards : 1 number of balls found\n",
      "Time backwards: 1 number of balls found\n",
      "(274, 274)\n",
      "Time forwards : 2 number of balls found\n",
      "Time backwards: 1 number of balls found\n",
      "(276, 276)\n",
      "Time forwards : 2 number of balls found\n",
      "Time backwards: 2 number of balls found\n",
      "(279, 280)\n",
      "Time forwards : 1 number of balls found\n",
      "Time backwards: 1 number of balls found\n",
      "(283, 283)\n",
      "Time forwards : 1 number of balls found\n",
      "Time backwards: 1 number of balls found\n",
      "(286, 287)\n",
      "Time forwards : 2 number of balls found\n",
      "Time backwards: 1 number of balls found\n",
      "(290, 292)\n",
      "Time forwards : 5 number of balls found\n",
      "Time backwards: 1 number of balls found\n",
      "(294, 297)\n",
      "Time forwards : 4 number of balls found\n",
      "Time backwards: 1 number of balls found\n",
      "(299, 300)\n",
      "Time forwards : 4 number of balls found\n",
      "Time backwards: 1 number of balls found\n",
      "(303, 304)\n",
      "Time forwards : 2 number of balls found\n",
      "Time backwards: 1 number of balls found\n",
      "(309, 313)\n",
      "Time forwards : 3 number of balls found\n",
      "Time backwards: 2 number of balls found\n",
      "(316, 319)\n",
      "Time forwards : 5 number of balls found\n",
      "Time backwards: 3 number of balls found\n",
      "(323, 328)\n",
      "Time forwards : 1 number of balls found\n",
      "Time backwards: 2 number of balls found\n",
      "(332, 336)\n",
      "Time forwards : 4 number of balls found\n",
      "Time backwards: 1 number of balls found\n",
      "(342, 346)\n",
      "Time forwards : 1 number of balls found\n",
      "Time backwards: 3 number of balls found\n",
      "(353, 355)\n",
      "Time forwards : 1 number of balls found\n",
      "Time backwards: 1 number of balls found\n",
      "(363, 367)\n",
      "Time forwards : 2 number of balls found\n",
      "Time backwards: 1 number of balls found\n",
      "(377, 382)\n",
      "Time forwards : 1 number of balls found\n",
      "Time backwards: 1 number of balls found\n",
      "(388, 393)\n",
      "Time forwards : 1 number of balls found\n",
      "Time backwards: 4 number of balls found\n",
      "(397, 399)\n",
      "Time forwards : 1 number of balls found\n",
      "Time backwards: 1 number of balls found\n",
      "(403, 407)\n",
      "Time forwards : 1 number of balls found\n",
      "Time backwards: 2 number of balls found\n",
      "(411, 416)\n",
      "Time forwards : 1 number of balls found\n",
      "Time backwards: 1 number of balls found\n",
      "(420, 426)\n",
      "Time forwards : 1 number of balls found\n",
      "Time backwards: 4 number of balls found\n",
      "(430, 432)\n",
      "Time forwards : 1 number of balls found\n",
      "Time backwards: 4 number of balls found\n",
      "(435, 438)\n",
      "Time forwards : 1 number of balls found\n",
      "Time backwards: 2 number of balls found\n",
      "(444, 448)\n",
      "Time forwards : 1 number of balls found\n",
      "Time backwards: 1 number of balls found\n",
      "(453, 456)\n",
      "Time forwards : 3 number of balls found\n",
      "Time backwards: 1 number of balls found\n",
      "(462, 464)\n",
      "Time forwards : 2 number of balls found\n",
      "Time backwards: 2 number of balls found\n",
      "(470, 473)\n",
      "Time forwards : 1 number of balls found\n",
      "Time backwards: 1 number of balls found\n",
      "(479, 481)\n",
      "Time forwards : 31 number of balls found\n",
      "Time backwards: 2 number of balls found\n",
      "(492, 493)\n",
      "Time forwards : 30 number of balls found\n",
      "Time backwards: 4 number of balls found\n",
      "(505, 506)\n",
      "Time forwards : 10 number of balls found\n",
      "Time backwards: 3 number of balls found\n",
      "(515, 516)\n",
      "Time forwards : 29 number of balls found\n",
      "Time backwards: 6 number of balls found\n",
      "(522, 524)\n",
      "Time forwards : 7 number of balls found\n",
      "Time backwards: 5 number of balls found\n",
      "(531, 533)\n",
      "Time forwards : 6 number of balls found\n",
      "Time backwards: 8 number of balls found\n",
      "(539, 542)\n",
      "Time forwards : 5 number of balls found\n",
      "Time backwards: 6 number of balls found\n",
      "(550, 552)\n",
      "Time forwards : 29 number of balls found\n",
      "Time backwards: 1 number of balls found\n",
      "(555, 557)\n",
      "Time forwards : 4 number of balls found\n",
      "Time backwards: 10 number of balls found\n",
      "(561, 563)\n",
      "Time forwards : 3 number of balls found\n",
      "Time backwards: 2 number of balls found\n",
      "(567, 569)\n",
      "Time forwards : 2 number of balls found\n",
      "Time backwards: 3 number of balls found\n",
      "(573, 576)\n",
      "Time forwards : 2 number of balls found\n",
      "Time backwards: 4 number of balls found\n",
      "(579, 581)\n",
      "Time forwards : 1 number of balls found\n",
      "Time backwards: 6 number of balls found\n",
      "(587, 590)\n",
      "Time forwards : 1 number of balls found\n",
      "Time backwards: 1 number of balls found\n",
      "(595, 597)\n",
      "Time forwards : 24 number of balls found\n",
      "Time backwards: 2 number of balls found\n",
      "(603, 605)\n",
      "Time forwards : 23 number of balls found\n",
      "Time backwards: 2 number of balls found\n",
      "(613, 616)\n",
      "Time forwards : 22 number of balls found\n",
      "Time backwards: 3 number of balls found\n",
      "(626, 628)\n",
      "Time forwards : 21 number of balls found\n",
      "Time backwards: 5 number of balls found\n",
      "(640, 640)\n",
      "Time forwards : 21 number of balls found\n",
      "Time backwards: 4 number of balls found\n",
      "(647, 648)\n",
      "Time forwards : 20 number of balls found\n",
      "Time backwards: 6 number of balls found\n",
      "(653, 653)\n",
      "Time forwards : 19 number of balls found\n",
      "Time backwards: 6 number of balls found\n",
      "(658, 659)\n",
      "Time forwards : 18 number of balls found\n",
      "Time backwards: 1 number of balls found\n",
      "(662, 662)\n",
      "Time forwards : 11 number of balls found\n",
      "Time backwards: 7 number of balls found\n",
      "(665, 666)\n",
      "Time forwards : 17 number of balls found\n",
      "Time backwards: 6 number of balls found\n",
      "(671, 672)\n",
      "Time forwards : 1 number of balls found\n",
      "Time backwards: 1 number of balls found\n",
      "(678, 679)\n",
      "Time forwards : 16 number of balls found\n",
      "Time backwards: 4 number of balls found\n",
      "(688, 688)\n",
      "Time forwards : 16 number of balls found\n",
      "Time backwards: 5 number of balls found\n",
      "(694, 695)\n",
      "Time forwards : 10 number of balls found\n",
      "Time backwards: 6 number of balls found\n",
      "(702, 702)\n",
      "Time forwards : 10 number of balls found\n",
      "Time backwards: 9 number of balls found\n",
      "(708, 708)\n",
      "Time forwards : 9 number of balls found\n",
      "Time backwards: 9 number of balls found\n",
      "(717, 717)\n",
      "Time forwards : 8 number of balls found\n",
      "Time backwards: 10 number of balls found\n",
      "(726, 726)\n",
      "Time forwards : 10 number of balls found\n",
      "Time backwards: 10 number of balls found\n",
      "(735, 735)\n",
      "Time forwards : 9 number of balls found\n",
      "Time backwards: 11 number of balls found\n",
      "(744, 744)\n",
      "Time forwards : 7 number of balls found\n",
      "Time backwards: 6 number of balls found\n",
      "(752, 752)\n",
      "Time forwards : 8 number of balls found\n",
      "Time backwards: 12 number of balls found\n",
      "(760, 760)\n",
      "Time forwards : 7 number of balls found\n",
      "Time backwards: 13 number of balls found\n",
      "(770, 770)\n",
      "Time forwards : 6 number of balls found\n",
      "Time backwards: 7 number of balls found\n",
      "(778, 778)\n",
      "Time forwards : 15 number of balls found\n",
      "Time backwards: 8 number of balls found\n",
      "(785, 785)\n",
      "Time forwards : 3 number of balls found\n",
      "Time backwards: 1 number of balls found\n",
      "(790, 790)\n",
      "Time forwards : 2 number of balls found\n",
      "Time backwards: 2 number of balls found\n",
      "(796, 796)\n",
      "Time forwards : 1 number of balls found\n",
      "Time backwards: 3 number of balls found\n",
      "(1627, 1627)\n",
      "Time forwards : 21 number of balls found\n",
      "Time backwards: 11 number of balls found\n",
      "(1630, 1630)\n",
      "Time forwards : 20 number of balls found\n",
      "Time backwards: 12 number of balls found\n",
      "(1634, 1642)\n",
      "Time forwards : 11 number of balls found\n",
      "Time backwards: 13 number of balls found\n",
      "(1644, 1644)\n",
      "Time forwards : 10 number of balls found\n",
      "Time backwards: 22 number of balls found\n",
      "(1646, 1646)\n",
      "Time forwards : 9 number of balls found\n",
      "Time backwards: 23 number of balls found\n",
      "(1649, 1649)\n",
      "Time forwards : 8 number of balls found\n",
      "Time backwards: 24 number of balls found\n",
      "(1651, 1651)\n",
      "Time forwards : 7 number of balls found\n",
      "Time backwards: 25 number of balls found\n",
      "(1653, 1653)\n",
      "Time forwards : 6 number of balls found\n",
      "Time backwards: 26 number of balls found\n",
      "(1655, 1655)\n",
      "Time forwards : 5 number of balls found\n",
      "Time backwards: 27 number of balls found\n",
      "(1657, 1657)\n",
      "Time forwards : 4 number of balls found\n",
      "Time backwards: 28 number of balls found\n",
      "(1659, 1659)\n",
      "Time forwards : 3 number of balls found\n",
      "Time backwards: 29 number of balls found\n",
      "(1661, 1661)\n",
      "Time forwards : 2 number of balls found\n",
      "Time backwards: 30 number of balls found\n",
      "(1663, 1664)\n",
      "Time forwards : 1 number of balls found\n",
      "Time backwards: 31 number of balls found\n",
      "(2212, 2212)\n",
      "Time forwards : 25 number of balls found\n",
      "Time backwards: 8 number of balls found\n",
      "(2215, 2215)\n",
      "Time forwards : 24 number of balls found\n",
      "Time backwards: 9 number of balls found\n",
      "(2218, 2218)\n",
      "Time forwards : 23 number of balls found\n",
      "Time backwards: 10 number of balls found\n",
      "(2220, 2229)\n",
      "Time forwards : 13 number of balls found\n",
      "Time backwards: 11 number of balls found\n",
      "(2231, 2231)\n",
      "Time forwards : 12 number of balls found\n",
      "Time backwards: 21 number of balls found\n",
      "(2233, 2233)\n",
      "Time forwards : 11 number of balls found\n",
      "Time backwards: 22 number of balls found\n",
      "(2235, 2235)\n",
      "Time forwards : 10 number of balls found\n",
      "Time backwards: 23 number of balls found\n",
      "(2237, 2237)\n",
      "Time forwards : 9 number of balls found\n",
      "Time backwards: 24 number of balls found\n",
      "(2240, 2240)\n",
      "Time forwards : 8 number of balls found\n",
      "Time backwards: 25 number of balls found\n",
      "(2242, 2242)\n",
      "Time forwards : 7 number of balls found\n",
      "Time backwards: 26 number of balls found\n",
      "(2244, 2244)\n",
      "Time forwards : 6 number of balls found\n",
      "Time backwards: 27 number of balls found\n",
      "(2246, 2246)\n",
      "Time forwards : 7 number of balls found\n",
      "Time backwards: 28 number of balls found\n",
      "(2248, 2248)\n",
      "Time forwards : 6 number of balls found\n",
      "Time backwards: 29 number of balls found\n",
      "(2250, 2250)\n",
      "Time forwards : 5 number of balls found\n",
      "Time backwards: 30 number of balls found\n",
      "(2253, 2253)\n",
      "Time forwards : 4 number of balls found\n",
      "Time backwards: 31 number of balls found\n",
      "(2966, 2966)\n",
      "Time forwards : 72 number of balls found\n",
      "Time backwards: 5 number of balls found\n",
      "(2969, 2969)\n",
      "Time forwards : 71 number of balls found\n",
      "Time backwards: 6 number of balls found\n",
      "(2971, 2971)\n",
      "Time forwards : 70 number of balls found\n",
      "Time backwards: 7 number of balls found\n",
      "(2973, 2973)\n",
      "Time forwards : 69 number of balls found\n",
      "Time backwards: 8 number of balls found\n",
      "(2975, 2989)\n",
      "Time forwards : 55 number of balls found\n",
      "Time backwards: 9 number of balls found\n",
      "(2991, 2994)\n",
      "Time forwards : 51 number of balls found\n",
      "Time backwards: 11 number of balls found\n",
      "(2997, 2997)\n",
      "Time forwards : 50 number of balls found\n",
      "Time backwards: 14 number of balls found\n",
      "(3000, 3000)\n",
      "Time forwards : 49 number of balls found\n",
      "Time backwards: 15 number of balls found\n",
      "(3003, 3003)\n",
      "Time forwards : 48 number of balls found\n",
      "Time backwards: 16 number of balls found\n",
      "(3567, 3567)\n",
      "Time forwards : 26 number of balls found\n",
      "Time backwards: 11 number of balls found\n",
      "(3570, 3570)\n",
      "Time forwards : 25 number of balls found\n",
      "Time backwards: 12 number of balls found\n",
      "(3573, 3573)\n",
      "Time forwards : 24 number of balls found\n",
      "Time backwards: 13 number of balls found\n",
      "(3575, 3575)\n",
      "Time forwards : 23 number of balls found\n",
      "Time backwards: 14 number of balls found\n",
      "(3577, 3587)\n",
      "Time forwards : 12 number of balls found\n",
      "Time backwards: 15 number of balls found\n",
      "(3589, 3589)\n",
      "Time forwards : 11 number of balls found\n",
      "Time backwards: 26 number of balls found\n",
      "(3591, 3591)\n",
      "Time forwards : 10 number of balls found\n",
      "Time backwards: 27 number of balls found\n",
      "(3593, 3593)\n",
      "Time forwards : 9 number of balls found\n",
      "Time backwards: 28 number of balls found\n",
      "(3595, 3595)\n",
      "Time forwards : 8 number of balls found\n",
      "Time backwards: 29 number of balls found\n",
      "(3597, 3597)\n",
      "Time forwards : 7 number of balls found\n",
      "Time backwards: 30 number of balls found\n",
      "(3600, 3600)\n",
      "Time forwards : 6 number of balls found\n",
      "Time backwards: 31 number of balls found\n",
      "(3602, 3602)\n",
      "Time forwards : 5 number of balls found\n",
      "Time backwards: 32 number of balls found\n",
      "(3604, 3604)\n",
      "Time forwards : 4 number of balls found\n",
      "Time backwards: 33 number of balls found\n",
      "(3606, 3606)\n",
      "Time forwards : 3 number of balls found\n",
      "Time backwards: 34 number of balls found\n",
      "(3608, 3608)\n",
      "Time forwards : 2 number of balls found\n",
      "Time backwards: 35 number of balls found\n",
      "(3613, 3613)\n",
      "Time forwards : 2 number of balls found\n",
      "Time backwards: 34 number of balls found\n",
      "(3615, 3615)\n",
      "Time forwards : 1 number of balls found\n",
      "Time backwards: 36 number of balls found\n",
      "(3617, 3617)\n",
      "Time forwards : 2 number of balls found\n",
      "Time backwards: 1 number of balls found\n",
      "(3622, 3622)\n",
      "Time forwards : 1 number of balls found\n",
      "Time backwards: 2 number of balls found\n",
      "(3625, 3625)\n",
      "Time forwards : 1 number of balls found\n",
      "Time backwards: 2 number of balls found\n",
      "(3627, 3627)\n",
      "Time forwards : 2 number of balls found\n",
      "Time backwards: 2 number of balls found\n",
      "(3642, 3642)\n",
      "Time forwards : 1 number of balls found\n",
      "Time backwards: 1 number of balls found\n",
      "(3654, 3654)\n",
      "Time forwards : 1 number of balls found\n",
      "Time backwards: 2 number of balls found\n",
      "(4198, 4198)\n",
      "Time forwards : 25 number of balls found\n",
      "Time backwards: 7 number of balls found\n",
      "(4201, 4201)\n",
      "Time forwards : 24 number of balls found\n",
      "Time backwards: 8 number of balls found\n",
      "(4204, 4204)\n",
      "Time forwards : 23 number of balls found\n",
      "Time backwards: 9 number of balls found\n",
      "(4207, 4207)\n",
      "Time forwards : 22 number of balls found\n",
      "Time backwards: 10 number of balls found\n",
      "(4209, 4219)\n",
      "Time forwards : 11 number of balls found\n",
      "Time backwards: 11 number of balls found\n",
      "(4221, 4221)\n",
      "Time forwards : 11 number of balls found\n",
      "Time backwards: 21 number of balls found\n",
      "(4224, 4224)\n",
      "Time forwards : 10 number of balls found\n",
      "Time backwards: 22 number of balls found\n",
      "(4227, 4227)\n",
      "Time forwards : 9 number of balls found\n",
      "Time backwards: 23 number of balls found\n",
      "(4229, 4229)\n",
      "Time forwards : 8 number of balls found\n",
      "Time backwards: 24 number of balls found\n",
      "(4231, 4231)\n",
      "Time forwards : 7 number of balls found\n",
      "Time backwards: 25 number of balls found\n",
      "(4233, 4233)\n",
      "Time forwards : 6 number of balls found\n",
      "Time backwards: 26 number of balls found\n",
      "(4235, 4235)\n",
      "Time forwards : 5 number of balls found\n",
      "Time backwards: 27 number of balls found\n",
      "(4237, 4237)\n",
      "Time forwards : 4 number of balls found\n",
      "Time backwards: 28 number of balls found\n",
      "(4823, 4823)\n",
      "Time forwards : 23 number of balls found\n",
      "Time backwards: 6 number of balls found\n",
      "(4826, 4826)\n",
      "Time forwards : 22 number of balls found\n",
      "Time backwards: 7 number of balls found\n",
      "(4829, 4829)\n",
      "Time forwards : 21 number of balls found\n",
      "Time backwards: 8 number of balls found\n",
      "(4831, 4831)\n",
      "Time forwards : 20 number of balls found\n",
      "Time backwards: 9 number of balls found\n",
      "(4833, 4842)\n",
      "Time forwards : 12 number of balls found\n",
      "Time backwards: 10 number of balls found\n",
      "(4844, 4844)\n",
      "Time forwards : 11 number of balls found\n",
      "Time backwards: 20 number of balls found\n",
      "(4846, 4846)\n",
      "Time forwards : 10 number of balls found\n",
      "Time backwards: 21 number of balls found\n",
      "(4849, 4849)\n",
      "Time forwards : 9 number of balls found\n",
      "Time backwards: 22 number of balls found\n",
      "(4851, 4851)\n",
      "Time forwards : 8 number of balls found\n",
      "Time backwards: 23 number of balls found\n",
      "(4853, 4853)\n",
      "Time forwards : 7 number of balls found\n",
      "Time backwards: 24 number of balls found\n",
      "(4855, 4855)\n",
      "Time forwards : 6 number of balls found\n",
      "Time backwards: 1 number of balls found\n",
      "(4857, 4857)\n",
      "Time forwards : 6 number of balls found\n",
      "Time backwards: 2 number of balls found\n",
      "(4859, 4859)\n",
      "Time forwards : 5 number of balls found\n",
      "Time backwards: 3 number of balls found\n",
      "(4861, 4861)\n",
      "Time forwards : 4 number of balls found\n",
      "Time backwards: 4 number of balls found\n",
      "(4863, 4863)\n",
      "Time forwards : 1 number of balls found\n",
      "Time backwards: 2 number of balls found\n",
      "(4865, 4865)\n",
      "Time forwards : 3 number of balls found\n",
      "Time backwards: 3 number of balls found\n",
      "(5476, 5476)\n",
      "Time forwards : 27 number of balls found\n",
      "Time backwards: 8 number of balls found\n",
      "(5479, 5479)\n",
      "Time forwards : 26 number of balls found\n",
      "Time backwards: 9 number of balls found\n",
      "(5482, 5482)\n",
      "Time forwards : 25 number of balls found\n",
      "Time backwards: 10 number of balls found\n",
      "(5484, 5484)\n",
      "Time forwards : 24 number of balls found\n",
      "Time backwards: 11 number of balls found\n",
      "(5486, 5496)\n",
      "Time forwards : 13 number of balls found\n",
      "Time backwards: 12 number of balls found\n",
      "(5498, 5498)\n",
      "Time forwards : 12 number of balls found\n",
      "Time backwards: 23 number of balls found\n",
      "(5500, 5500)\n",
      "Time forwards : 11 number of balls found\n",
      "Time backwards: 24 number of balls found\n",
      "(5503, 5503)\n",
      "Time forwards : 10 number of balls found\n",
      "Time backwards: 25 number of balls found\n",
      "(5506, 5506)\n",
      "Time forwards : 9 number of balls found\n",
      "Time backwards: 26 number of balls found\n",
      "(5508, 5508)\n",
      "Time forwards : 8 number of balls found\n",
      "Time backwards: 27 number of balls found\n",
      "(5510, 5510)\n",
      "Time forwards : 7 number of balls found\n",
      "Time backwards: 28 number of balls found\n",
      "(5512, 5512)\n",
      "Time forwards : 6 number of balls found\n",
      "Time backwards: 29 number of balls found\n",
      "(5514, 5514)\n",
      "Time forwards : 5 number of balls found\n",
      "Time backwards: 30 number of balls found\n",
      "(5516, 5516)\n",
      "Time forwards : 5 number of balls found\n",
      "Time backwards: 31 number of balls found\n",
      "(5518, 5518)\n",
      "Time forwards : 4 number of balls found\n",
      "Time backwards: 32 number of balls found\n",
      "(6359, 6359)\n",
      "Time forwards : 61 number of balls found\n",
      "Time backwards: 9 number of balls found\n",
      "(6363, 6363)\n",
      "Time forwards : 60 number of balls found\n",
      "Time backwards: 10 number of balls found\n",
      "(6366, 6366)\n",
      "Time forwards : 59 number of balls found\n",
      "Time backwards: 11 number of balls found\n",
      "(6368, 6389)\n",
      "Time forwards : 39 number of balls found\n",
      "Time backwards: 12 number of balls found\n",
      "(6394, 6394)\n",
      "Time forwards : 38 number of balls found\n",
      "Time backwards: 29 number of balls found\n",
      "(6396, 6396)\n",
      "Time forwards : 1 number of balls found\n",
      "Time backwards: 1 number of balls found\n",
      "(6398, 6398)\n",
      "Time forwards : 2 number of balls found\n",
      "Time backwards: 1 number of balls found\n",
      "(6404, 6404)\n",
      "Time forwards : 1 number of balls found\n",
      "Time backwards: 2 number of balls found\n",
      "(6406, 6406)\n",
      "Time forwards : 37 number of balls found\n",
      "Time backwards: 30 number of balls found\n",
      "(6408, 6408)\n",
      "Time forwards : 36 number of balls found\n",
      "Time backwards: 31 number of balls found\n",
      "(6410, 6410)\n",
      "Time forwards : 35 number of balls found\n",
      "Time backwards: 32 number of balls found\n",
      "(6412, 6414)\n",
      "Time forwards : 32 number of balls found\n",
      "Time backwards: 32 number of balls found\n",
      "(6913, 6913)\n",
      "Time forwards : 11 number of balls found\n",
      "Time backwards: 8 number of balls found\n",
      "(6916, 6916)\n",
      "Time forwards : 10 number of balls found\n",
      "Time backwards: 9 number of balls found\n",
      "(6918, 6918)\n",
      "Time forwards : 9 number of balls found\n",
      "Time backwards: 10 number of balls found\n",
      "(6920, 6931)\n",
      "Time forwards : 44 number of balls found\n",
      "Time backwards: 11 number of balls found\n",
      "(6933, 6933)\n",
      "Time forwards : 43 number of balls found\n",
      "Time backwards: 23 number of balls found\n",
      "(6935, 6935)\n",
      "Time forwards : 42 number of balls found\n",
      "Time backwards: 24 number of balls found\n",
      "(6938, 6938)\n",
      "Time forwards : 39 number of balls found\n",
      "Time backwards: 23 number of balls found\n",
      "(6940, 6940)\n",
      "Time forwards : 41 number of balls found\n",
      "Time backwards: 24 number of balls found\n",
      "(6942, 6942)\n",
      "Time forwards : 40 number of balls found\n",
      "Time backwards: 25 number of balls found\n",
      "(6944, 6944)\n",
      "Time forwards : 39 number of balls found\n",
      "Time backwards: 26 number of balls found\n",
      "(6946, 6946)\n",
      "Time forwards : 38 number of balls found\n",
      "Time backwards: 27 number of balls found\n",
      "(6948, 6948)\n",
      "Time forwards : 37 number of balls found\n",
      "Time backwards: 28 number of balls found\n",
      "(7418, 7418)\n",
      "Time forwards : 44 number of balls found\n",
      "Time backwards: 10 number of balls found\n",
      "(7421, 7421)\n",
      "Time forwards : 43 number of balls found\n",
      "Time backwards: 11 number of balls found\n",
      "(7425, 7425)\n",
      "Time forwards : 42 number of balls found\n",
      "Time backwards: 12 number of balls found\n",
      "(7427, 7435)\n",
      "Time forwards : 33 number of balls found\n",
      "Time backwards: 13 number of balls found\n",
      "(7437, 7437)\n",
      "Time forwards : 32 number of balls found\n",
      "Time backwards: 22 number of balls found\n",
      "(7439, 7439)\n",
      "Time forwards : 31 number of balls found\n",
      "Time backwards: 23 number of balls found\n",
      "(7441, 7441)\n",
      "Time forwards : 30 number of balls found\n",
      "Time backwards: 24 number of balls found\n",
      "(7444, 7444)\n",
      "Time forwards : 29 number of balls found\n",
      "Time backwards: 25 number of balls found\n",
      "(7447, 7447)\n",
      "Time forwards : 28 number of balls found\n",
      "Time backwards: 26 number of balls found\n",
      "(7450, 7450)\n",
      "Time forwards : 27 number of balls found\n",
      "Time backwards: 27 number of balls found\n",
      "(7452, 7452)\n",
      "Time forwards : 26 number of balls found\n",
      "Time backwards: 28 number of balls found\n",
      "(7454, 7454)\n",
      "Time forwards : 25 number of balls found\n",
      "Time backwards: 28 number of balls found\n",
      "(7456, 7456)\n",
      "Time forwards : 24 number of balls found\n",
      "Time backwards: 29 number of balls found\n",
      "(7458, 7458)\n",
      "Time forwards : 23 number of balls found\n",
      "Time backwards: 30 number of balls found\n",
      "(7461, 7461)\n",
      "Time forwards : 22 number of balls found\n",
      "Time backwards: 31 number of balls found\n",
      "(7463, 7463)\n",
      "Time forwards : 21 number of balls found\n",
      "Time backwards: 32 number of balls found\n",
      "(7465, 7465)\n",
      "Time forwards : 20 number of balls found\n",
      "Time backwards: 33 number of balls found\n",
      "(7834, 7834)\n",
      "Time forwards : 13 number of balls found\n",
      "Time backwards: 2 number of balls found\n",
      "(7842, 7842)\n",
      "Time forwards : 12 number of balls found\n",
      "Time backwards: 3 number of balls found\n",
      "(7850, 7850)\n",
      "Time forwards : 13 number of balls found\n",
      "Time backwards: 15 number of balls found\n",
      "(7855, 7855)\n",
      "Time forwards : 12 number of balls found\n",
      "Time backwards: 16 number of balls found\n",
      "(7860, 7860)\n",
      "Time forwards : 12 number of balls found\n",
      "Time backwards: 15 number of balls found\n",
      "(7866, 7866)\n",
      "Time forwards : 11 number of balls found\n",
      "Time backwards: 16 number of balls found\n",
      "(7873, 7873)\n",
      "Time forwards : 11 number of balls found\n",
      "Time backwards: 13 number of balls found\n",
      "(7881, 7881)\n",
      "Time forwards : 11 number of balls found\n",
      "Time backwards: 1 number of balls found\n",
      "(7890, 7890)\n",
      "Time forwards : 10 number of balls found\n",
      "Time backwards: 17 number of balls found\n",
      "(7898, 7898)\n",
      "Time forwards : 9 number of balls found\n",
      "Time backwards: 18 number of balls found\n",
      "(7908, 7908)\n",
      "Time forwards : 11 number of balls found\n",
      "Time backwards: 17 number of balls found\n",
      "(7917, 7917)\n",
      "Time forwards : 10 number of balls found\n",
      "Time backwards: 18 number of balls found\n",
      "(7927, 7927)\n",
      "Time forwards : 9 number of balls found\n",
      "Time backwards: 19 number of balls found\n",
      "(7937, 7937)\n",
      "Time forwards : 8 number of balls found\n",
      "Time backwards: 20 number of balls found\n",
      "(7946, 7946)\n",
      "Time forwards : 13 number of balls found\n",
      "Time backwards: 1 number of balls found\n",
      "(7956, 7956)\n",
      "Time forwards : 12 number of balls found\n",
      "Time backwards: 2 number of balls found\n",
      "(7965, 7965)\n",
      "Time forwards : 11 number of balls found\n",
      "Time backwards: 3 number of balls found\n",
      "(7972, 7972)\n",
      "Time forwards : 10 number of balls found\n",
      "Time backwards: 4 number of balls found\n",
      "(7980, 7980)\n",
      "Time forwards : 9 number of balls found\n",
      "Time backwards: 5 number of balls found\n",
      "(7985, 7985)\n",
      "Time forwards : 8 number of balls found\n",
      "Time backwards: 6 number of balls found\n",
      "(7989, 7990)\n",
      "Time forwards : 1 number of balls found\n",
      "Time backwards: 1 number of balls found\n",
      "(7995, 7997)\n",
      "Time forwards : 7 number of balls found\n",
      "Time backwards: 1 number of balls found\n",
      "(8009, 8009)\n",
      "Time forwards : 6 number of balls found\n",
      "Time backwards: 8 number of balls found\n",
      "(8019, 8020)\n",
      "Time forwards : 5 number of balls found\n",
      "Time backwards: 3 number of balls found\n",
      "(8030, 8032)\n",
      "Time forwards : 4 number of balls found\n",
      "Time backwards: 4 number of balls found\n",
      "(8038, 8039)\n",
      "Time forwards : 3 number of balls found\n",
      "Time backwards: 4 number of balls found\n",
      "(8043, 8043)\n",
      "Time forwards : 1 number of balls found\n",
      "Time backwards: 1 number of balls found\n",
      "(8048, 8049)\n",
      "Time forwards : 4 number of balls found\n",
      "Time backwards: 8 number of balls found\n",
      "(8057, 8058)\n",
      "Time forwards : 3 number of balls found\n",
      "Time backwards: 1 number of balls found\n",
      "(8066, 8067)\n",
      "Time forwards : 2 number of balls found\n",
      "Time backwards: 20 number of balls found\n",
      "(8072, 8073)\n",
      "Time forwards : 1 number of balls found\n",
      "Time backwards: 21 number of balls found\n",
      "(8079, 8081)\n",
      "Time forwards : 3 number of balls found\n",
      "Time backwards: 22 number of balls found\n",
      "(8089, 8091)\n",
      "Time forwards : 2 number of balls found\n",
      "Time backwards: 19 number of balls found\n",
      "(8097, 8098)\n",
      "Time forwards : 4 number of balls found\n",
      "Time backwards: 10 number of balls found\n",
      "(8105, 8106)\n",
      "Time forwards : 3 number of balls found\n",
      "Time backwards: 2 number of balls found\n",
      "(8112, 8113)\n",
      "Time forwards : 5 number of balls found\n",
      "Time backwards: 12 number of balls found\n",
      "(8117, 8119)\n",
      "Time forwards : 2 number of balls found\n",
      "Time backwards: 4 number of balls found\n",
      "(8125, 8128)\n",
      "Time forwards : 3 number of balls found\n",
      "Time backwards: 12 number of balls found\n",
      "(8131, 8131)\n",
      "Time forwards : 3 number of balls found\n",
      "Time backwards: 10 number of balls found\n",
      "(8135, 8137)\n",
      "Time forwards : 1 number of balls found\n",
      "Time backwards: 20 number of balls found\n",
      "(8142, 8143)\n",
      "Time forwards : 1 number of balls found\n",
      "Time backwards: 11 number of balls found\n",
      "(8148, 8150)\n",
      "Time forwards : 1 number of balls found\n",
      "Time backwards: 13 number of balls found\n",
      "(8152, 8159)\n",
      "Time forwards : 2 number of balls found\n",
      "Time backwards: 20 number of balls found\n",
      "(8161, 8166)\n",
      "Time forwards : 1 number of balls found\n",
      "Time backwards: 23 number of balls found\n"
     ]
    },
    {
     "data": {
      "text/html": [
       "<div>\n",
       "<style scoped>\n",
       "    .dataframe tbody tr th:only-of-type {\n",
       "        vertical-align: middle;\n",
       "    }\n",
       "\n",
       "    .dataframe tbody tr th {\n",
       "        vertical-align: top;\n",
       "    }\n",
       "\n",
       "    .dataframe thead th {\n",
       "        text-align: right;\n",
       "    }\n",
       "</style>\n",
       "<table border=\"1\" class=\"dataframe\">\n",
       "  <thead>\n",
       "    <tr style=\"text-align: right;\">\n",
       "      <th></th>\n",
       "      <th>frame_idx</th>\n",
       "      <th>x</th>\n",
       "      <th>y</th>\n",
       "      <th>width</th>\n",
       "      <th>height</th>\n",
       "      <th>is_bball</th>\n",
       "    </tr>\n",
       "  </thead>\n",
       "  <tbody>\n",
       "    <tr>\n",
       "      <th>0</th>\n",
       "      <td>10</td>\n",
       "      <td>837</td>\n",
       "      <td>433.0</td>\n",
       "      <td>43</td>\n",
       "      <td>9</td>\n",
       "      <td>False</td>\n",
       "    </tr>\n",
       "    <tr>\n",
       "      <th>1</th>\n",
       "      <td>10</td>\n",
       "      <td>103</td>\n",
       "      <td>331.0</td>\n",
       "      <td>45</td>\n",
       "      <td>25</td>\n",
       "      <td>False</td>\n",
       "    </tr>\n",
       "    <tr>\n",
       "      <th>2</th>\n",
       "      <td>10</td>\n",
       "      <td>913</td>\n",
       "      <td>286.0</td>\n",
       "      <td>23</td>\n",
       "      <td>12</td>\n",
       "      <td>False</td>\n",
       "    </tr>\n",
       "    <tr>\n",
       "      <th>3</th>\n",
       "      <td>10</td>\n",
       "      <td>196</td>\n",
       "      <td>202.0</td>\n",
       "      <td>31</td>\n",
       "      <td>13</td>\n",
       "      <td>False</td>\n",
       "    </tr>\n",
       "    <tr>\n",
       "      <th>4</th>\n",
       "      <td>10</td>\n",
       "      <td>829</td>\n",
       "      <td>168.0</td>\n",
       "      <td>13</td>\n",
       "      <td>21</td>\n",
       "      <td>True</td>\n",
       "    </tr>\n",
       "  </tbody>\n",
       "</table>\n",
       "</div>"
      ],
      "text/plain": [
       "   frame_idx    x      y  width  height  is_bball\n",
       "0         10  837  433.0     43       9     False\n",
       "1         10  103  331.0     45      25     False\n",
       "2         10  913  286.0     23      12     False\n",
       "3         10  196  202.0     31      13     False\n",
       "4         10  829  168.0     13      21      True"
      ]
     },
     "execution_count": 144,
     "metadata": {},
     "output_type": "execute_result"
    }
   ],
   "source": [
    "bball_blobs_df = find_bball_blobs(blobs_df, frame_dim)\n",
    "# bball_blobs_df.to_csv(\"bball_blobs_df.csv\")\n",
    "bball_blobs_df.head()"
   ]
  },
  {
   "cell_type": "code",
   "execution_count": 145,
   "metadata": {},
   "outputs": [
    {
     "data": {
      "text/html": [
       "<div>\n",
       "<style scoped>\n",
       "    .dataframe tbody tr th:only-of-type {\n",
       "        vertical-align: middle;\n",
       "    }\n",
       "\n",
       "    .dataframe tbody tr th {\n",
       "        vertical-align: top;\n",
       "    }\n",
       "\n",
       "    .dataframe thead th {\n",
       "        text-align: right;\n",
       "    }\n",
       "</style>\n",
       "<table border=\"1\" class=\"dataframe\">\n",
       "  <thead>\n",
       "    <tr style=\"text-align: right;\">\n",
       "      <th></th>\n",
       "      <th>frame_idx</th>\n",
       "      <th>x</th>\n",
       "      <th>y</th>\n",
       "      <th>width</th>\n",
       "      <th>height</th>\n",
       "      <th>is_bball</th>\n",
       "    </tr>\n",
       "  </thead>\n",
       "  <tbody>\n",
       "    <tr>\n",
       "      <th>0</th>\n",
       "      <td>10</td>\n",
       "      <td>837</td>\n",
       "      <td>433.0</td>\n",
       "      <td>43</td>\n",
       "      <td>9</td>\n",
       "      <td>False</td>\n",
       "    </tr>\n",
       "    <tr>\n",
       "      <th>1</th>\n",
       "      <td>10</td>\n",
       "      <td>103</td>\n",
       "      <td>331.0</td>\n",
       "      <td>45</td>\n",
       "      <td>25</td>\n",
       "      <td>False</td>\n",
       "    </tr>\n",
       "    <tr>\n",
       "      <th>2</th>\n",
       "      <td>10</td>\n",
       "      <td>913</td>\n",
       "      <td>286.0</td>\n",
       "      <td>23</td>\n",
       "      <td>12</td>\n",
       "      <td>False</td>\n",
       "    </tr>\n",
       "    <tr>\n",
       "      <th>3</th>\n",
       "      <td>10</td>\n",
       "      <td>196</td>\n",
       "      <td>202.0</td>\n",
       "      <td>31</td>\n",
       "      <td>13</td>\n",
       "      <td>False</td>\n",
       "    </tr>\n",
       "    <tr>\n",
       "      <th>4</th>\n",
       "      <td>10</td>\n",
       "      <td>829</td>\n",
       "      <td>168.0</td>\n",
       "      <td>13</td>\n",
       "      <td>21</td>\n",
       "      <td>True</td>\n",
       "    </tr>\n",
       "  </tbody>\n",
       "</table>\n",
       "</div>"
      ],
      "text/plain": [
       "   frame_idx    x      y  width  height  is_bball\n",
       "0         10  837  433.0     43       9     False\n",
       "1         10  103  331.0     45      25     False\n",
       "2         10  913  286.0     23      12     False\n",
       "3         10  196  202.0     31      13     False\n",
       "4         10  829  168.0     13      21      True"
      ]
     },
     "execution_count": 145,
     "metadata": {},
     "output_type": "execute_result"
    }
   ],
   "source": [
    "bball_blobs_df.head()"
   ]
  },
  {
   "cell_type": "markdown",
   "metadata": {},
   "source": [
    "# Add Shot index for BBall_df"
   ]
  },
  {
   "cell_type": "code",
   "execution_count": 129,
   "metadata": {},
   "outputs": [],
   "source": [
    "def add_shot_info_to_df(bball_df):\n",
    "    df = bball_df.copy(deep = True)\n",
    "    \n",
    "    df = df[df['is_bball'] == True]\n",
    "    df['shot_idx'] = 0\n",
    "    \n",
    "    # group basketballs into shots based on their frame indices\n",
    "    cur_frame = df['frame_idx'].iloc[0]\n",
    "    cur_shot_idx = 0\n",
    "    FRAME_TOL = 10\n",
    "    for i, blob in df.iterrows():\n",
    "        if blob['frame_idx'] > cur_frame + 10:\n",
    "            cur_shot_idx += 1\n",
    "\n",
    "        df.loc[i, 'shot_idx'] = cur_shot_idx\n",
    "        cur_frame = blob['frame_idx']\n",
    "\n",
    "    # drop any shots where there are not enough frames or too many frames\n",
    "    df = df.groupby(\"shot_idx\").filter(lambda x: len(x) >= 15 and len(x) <= 85)\n",
    "    \n",
    "    # label the basketballs before they hit the rim\n",
    "    \n",
    "    return df"
   ]
  },
  {
   "cell_type": "code",
   "execution_count": 143,
   "metadata": {},
   "outputs": [
    {
     "data": {
      "text/html": [
       "<div>\n",
       "<style scoped>\n",
       "    .dataframe tbody tr th:only-of-type {\n",
       "        vertical-align: middle;\n",
       "    }\n",
       "\n",
       "    .dataframe tbody tr th {\n",
       "        vertical-align: top;\n",
       "    }\n",
       "\n",
       "    .dataframe thead th {\n",
       "        text-align: right;\n",
       "    }\n",
       "</style>\n",
       "<table border=\"1\" class=\"dataframe\">\n",
       "  <thead>\n",
       "    <tr style=\"text-align: right;\">\n",
       "      <th></th>\n",
       "      <th>frame_idx</th>\n",
       "      <th>x</th>\n",
       "      <th>y</th>\n",
       "      <th>width</th>\n",
       "      <th>height</th>\n",
       "      <th>is_bball</th>\n",
       "      <th>shot_idx</th>\n",
       "    </tr>\n",
       "  </thead>\n",
       "  <tbody>\n",
       "    <tr>\n",
       "      <th>1596</th>\n",
       "      <td>549</td>\n",
       "      <td>238</td>\n",
       "      <td>323.0</td>\n",
       "      <td>32</td>\n",
       "      <td>32</td>\n",
       "      <td>True</td>\n",
       "      <td>2</td>\n",
       "    </tr>\n",
       "    <tr>\n",
       "      <th>1599</th>\n",
       "      <td>552</td>\n",
       "      <td>226</td>\n",
       "      <td>284.0</td>\n",
       "      <td>33</td>\n",
       "      <td>35</td>\n",
       "      <td>True</td>\n",
       "      <td>2</td>\n",
       "    </tr>\n",
       "    <tr>\n",
       "      <th>1600</th>\n",
       "      <td>553</td>\n",
       "      <td>222</td>\n",
       "      <td>276.0</td>\n",
       "      <td>30</td>\n",
       "      <td>40</td>\n",
       "      <td>True</td>\n",
       "      <td>2</td>\n",
       "    </tr>\n",
       "    <tr>\n",
       "      <th>1601</th>\n",
       "      <td>554</td>\n",
       "      <td>212</td>\n",
       "      <td>271.0</td>\n",
       "      <td>36</td>\n",
       "      <td>40</td>\n",
       "      <td>True</td>\n",
       "      <td>2</td>\n",
       "    </tr>\n",
       "    <tr>\n",
       "      <th>1607</th>\n",
       "      <td>557</td>\n",
       "      <td>199</td>\n",
       "      <td>257.0</td>\n",
       "      <td>34</td>\n",
       "      <td>36</td>\n",
       "      <td>True</td>\n",
       "      <td>2</td>\n",
       "    </tr>\n",
       "  </tbody>\n",
       "</table>\n",
       "</div>"
      ],
      "text/plain": [
       "      frame_idx    x      y  width  height  is_bball  shot_idx\n",
       "1596        549  238  323.0     32      32      True         2\n",
       "1599        552  226  284.0     33      35      True         2\n",
       "1600        553  222  276.0     30      40      True         2\n",
       "1601        554  212  271.0     36      40      True         2\n",
       "1607        557  199  257.0     34      36      True         2"
      ]
     },
     "execution_count": 143,
     "metadata": {},
     "output_type": "execute_result"
    }
   ],
   "source": [
    "bball_info_df = add_shot_info_to_df(bball_blobs_df)\n",
    "# bball_info_df.to_csv(\"bball_info_df_2.csv\")\n",
    "bball_info_df.head()"
   ]
  },
  {
   "cell_type": "markdown",
   "metadata": {},
   "source": [
    "# Plot Shot Arcs in Plotly"
   ]
  },
  {
   "cell_type": "code",
   "execution_count": 35,
   "metadata": {},
   "outputs": [],
   "source": [
    "import plotly.graph_objects as go"
   ]
  },
  {
   "cell_type": "code",
   "execution_count": 127,
   "metadata": {},
   "outputs": [
    {
     "data": {
      "text/plain": [
       "(960.0, 544.0)"
      ]
     },
     "execution_count": 127,
     "metadata": {},
     "output_type": "execute_result"
    }
   ],
   "source": [
    "# stores width, height\n",
    "frame_dim"
   ]
  },
  {
   "cell_type": "code",
   "execution_count": null,
   "metadata": {},
   "outputs": [],
   "source": [
    "# datastructure to store shot arcs\n"
   ]
  },
  {
   "cell_type": "code",
   "execution_count": 131,
   "metadata": {},
   "outputs": [
    {
     "data": {
      "application/vnd.plotly.v1+json": {
       "config": {
        "plotlyServerURL": "https://plot.ly"
       },
       "data": [
        {
         "line": {
          "width": 4
         },
         "name": "Shot 2",
         "type": "scatter",
         "x": [
          254,
          242.5,
          237,
          230,
          216,
          269.5,
          287.5,
          306,
          323,
          339.5,
          357,
          373.5,
          390,
          406,
          422.5,
          439.5,
          455,
          472,
          487.5,
          503.5,
          520,
          535.5,
          551.5,
          567.5,
          583,
          598,
          614.5,
          630,
          646.5,
          663.5,
          678,
          711.5
         ],
         "y": [
          205,
          242.5,
          248,
          253,
          269,
          350,
          369.5,
          387.5,
          403.5,
          419.5,
          433.5,
          446,
          457.5,
          467,
          477,
          482,
          488.5,
          494,
          497.5,
          499,
          501.5,
          504,
          499,
          498.5,
          492,
          489,
          483.5,
          476.5,
          469.5,
          458,
          449,
          422.5
         ]
        },
        {
         "line": {
          "width": 4
         },
         "name": "Shot 3",
         "type": "scatter",
         "x": [
          233.5,
          209.5,
          252,
          268,
          284.5,
          301.5,
          316.5,
          332,
          347,
          363,
          392.5,
          408,
          422,
          437.5,
          451.5,
          467.5,
          481,
          495.5,
          510.5,
          525.5,
          539,
          554.5,
          568.5,
          581.5,
          597,
          611.5,
          629,
          642.5,
          659.5,
          673,
          702.5,
          716,
          728,
          727
         ],
         "y": [
          236.5,
          270.5,
          343,
          363.5,
          382.5,
          401.5,
          418.5,
          433.5,
          449,
          461.5,
          483,
          492.5,
          500,
          505,
          510.5,
          515.5,
          519,
          520,
          522,
          520.5,
          519,
          515,
          512,
          507.5,
          501,
          495,
          490,
          475.5,
          466,
          454.5,
          426,
          410.5,
          397,
          395.5
         ]
        },
        {
         "line": {
          "width": 4
         },
         "name": "Shot 4",
         "type": "scatter",
         "x": [
          245.5,
          263,
          295,
          310,
          327,
          343.5,
          356,
          372,
          386.5,
          401.5,
          416.5,
          431,
          444.5,
          455.5,
          474,
          486,
          499,
          514,
          528.5,
          542,
          555.5,
          570.5,
          583.5,
          597.5,
          609,
          626,
          641,
          655,
          669.5,
          683,
          698.5
         ],
         "y": [
          326,
          350,
          390,
          406,
          423,
          438,
          451,
          463.5,
          474.5,
          485,
          493.5,
          499.5,
          506,
          511.5,
          514.5,
          518.5,
          520,
          520,
          518,
          515,
          512,
          508.5,
          502,
          495.5,
          489.5,
          480,
          469.5,
          461,
          444,
          431.5,
          418
         ]
        },
        {
         "line": {
          "width": 4
         },
         "name": "Shot 5",
         "type": "scatter",
         "x": [
          714,
          711.5,
          708.5,
          706.5,
          703.5,
          701.5,
          697.5,
          696.5,
          695.5,
          693,
          691,
          689.5,
          687.5,
          687,
          674.5,
          669.5,
          662.5,
          656,
          653,
          649,
          644,
          640.5,
          637,
          611.5,
          606.5,
          604.5,
          602.5,
          599,
          597,
          594.5,
          592.5,
          590.5,
          589,
          587.5,
          586,
          584.5,
          580,
          576,
          574.5,
          570.5,
          567.5,
          565.5,
          560.5,
          558,
          557.5,
          554
         ],
         "y": [
          345.5,
          336.5,
          324,
          311,
          297.5,
          279.5,
          261.5,
          243,
          223,
          200.5,
          179.5,
          152.5,
          126.5,
          100.5,
          123.5,
          142,
          172.5,
          191,
          202,
          213.5,
          223,
          231.5,
          239.5,
          249.5,
          243.5,
          235,
          229.5,
          220,
          210.5,
          198.5,
          184.5,
          170.5,
          154,
          136.5,
          117,
          97.5,
          93.5,
          105.5,
          117.5,
          132.5,
          143.5,
          153.5,
          162.5,
          168.5,
          174,
          178.5
         ]
        },
        {
         "line": {
          "width": 4
         },
         "name": "Shot 6",
         "type": "scatter",
         "x": [
          240.5,
          234.5,
          227.5,
          220,
          203,
          236.5,
          252.5,
          268,
          285,
          300,
          315,
          330.5,
          346.5,
          360,
          375,
          390,
          405,
          419,
          434.5,
          443,
          460.5,
          477,
          503.5,
          517.5,
          531.5,
          546.5,
          560.5,
          576.5,
          589,
          603,
          616.5,
          631,
          644,
          660.5,
          676.5,
          694,
          700,
          711,
          712.5,
          733,
          730,
          733,
          731,
          721
         ],
         "y": [
          223.5,
          238,
          243.5,
          246.5,
          263.5,
          334,
          355,
          376,
          394.5,
          412,
          428,
          442.5,
          455.5,
          467.5,
          478,
          489,
          496.5,
          503.5,
          508.5,
          514.5,
          517,
          519.5,
          520.5,
          520.5,
          516.5,
          511.5,
          507.5,
          502.5,
          494.5,
          487.5,
          478,
          467,
          455.5,
          442,
          430.5,
          427.5,
          420,
          420,
          422.5,
          440.5,
          446.5,
          453,
          457,
          434
         ]
        },
        {
         "line": {
          "width": 4
         },
         "name": "Shot 7",
         "type": "scatter",
         "x": [
          214,
          249,
          266,
          283.5,
          300,
          317,
          332,
          348.5,
          365,
          380.5,
          395.5,
          412.5,
          427.5,
          442.5,
          459.5,
          489,
          505.5,
          520,
          535,
          549,
          565,
          581,
          597.5,
          613,
          630.5,
          645,
          660.5,
          677.5,
          691,
          707.5,
          722,
          728
         ],
         "y": [
          262.5,
          333,
          355,
          373.5,
          391.5,
          408,
          422.5,
          436.5,
          448,
          460.5,
          470,
          479.5,
          485,
          492,
          498.5,
          503,
          507.5,
          508,
          507,
          502.5,
          503,
          494.5,
          491,
          485.5,
          479.5,
          469.5,
          458,
          448,
          435.5,
          420.5,
          406.5,
          397
         ]
        },
        {
         "line": {
          "width": 4
         },
         "name": "Shot 8",
         "type": "scatter",
         "x": [
          255,
          270,
          287.5,
          304,
          319,
          334.5,
          350,
          365.5,
          380,
          394.5,
          409,
          424.5,
          439.5,
          454.5,
          468.5,
          482,
          496,
          511.5,
          526,
          539.5,
          553.5,
          568.5,
          597,
          611,
          625.5,
          640,
          655,
          670,
          686,
          702.5,
          714.5,
          730.5
         ],
         "y": [
          343,
          363.5,
          383,
          401,
          418.5,
          434,
          448.5,
          462.5,
          473.5,
          484.5,
          494.5,
          500.5,
          507.5,
          514,
          517,
          522,
          527,
          526,
          528,
          522,
          518,
          516,
          504.5,
          498.5,
          493,
          481,
          469.5,
          459.5,
          450.5,
          431.5,
          416.5,
          401.5
         ]
        },
        {
         "line": {
          "width": 4
         },
         "name": "Shot 9",
         "type": "scatter",
         "x": [
          179,
          203,
          236,
          250.5,
          266.5,
          280.5,
          294.5,
          310,
          324.5,
          339.5,
          353.5,
          368,
          382.5,
          397,
          409.5,
          424,
          438,
          450.5,
          464,
          478,
          491.5,
          501.5,
          516.5,
          531,
          545,
          558.5,
          571.5,
          585.5,
          602.5,
          618.5,
          645.5,
          660,
          674.5,
          688,
          715.5
         ],
         "y": [
          163,
          252.5,
          333.5,
          354.5,
          374.5,
          394,
          411,
          426.5,
          441,
          455,
          465.5,
          477.5,
          486,
          495.5,
          502,
          509,
          512,
          518,
          520.5,
          521.5,
          520.5,
          519.5,
          516.5,
          513,
          506.5,
          501.5,
          494.5,
          485.5,
          478,
          470,
          442,
          426.5,
          414.5,
          395.5,
          354.5
         ]
        },
        {
         "line": {
          "width": 4
         },
         "name": "Shot 10",
         "type": "scatter",
         "x": [
          239,
          233,
          221.5,
          211,
          255,
          270.5,
          303,
          318.5,
          334,
          349,
          364,
          378.5,
          394,
          410,
          423,
          439,
          452.5,
          468.5,
          483,
          494,
          510,
          524.5,
          538,
          553,
          566.5,
          582,
          597,
          612.5,
          627,
          642.5,
          657.5,
          674.5,
          690,
          681.5,
          665,
          661.5,
          661.5,
          649.5,
          645,
          640.5,
          636,
          632.5,
          630.5,
          624.5,
          621.5,
          617,
          613,
          609.5,
          605.5,
          601.5,
          599.5,
          595.5,
          593,
          590,
          587,
          584,
          581,
          576.5,
          572,
          567,
          558,
          553.5,
          549,
          545,
          541.5,
          537.5,
          533.5,
          530,
          526,
          522.5,
          518.5,
          496.5,
          494,
          493.5
         ],
         "y": [
          233.5,
          236.5,
          241.5,
          257.5,
          336,
          356,
          393,
          407.5,
          422.5,
          436.5,
          448.5,
          459.5,
          469,
          479,
          485.5,
          492,
          499,
          502,
          505,
          508,
          509,
          507.5,
          505.5,
          501,
          498,
          491.5,
          486,
          483,
          470.5,
          460.5,
          449,
          436.5,
          425.5,
          434.5,
          445.5,
          450,
          455.5,
          449.5,
          448,
          443.5,
          433.5,
          429.5,
          420.5,
          410.5,
          398.5,
          384,
          366.5,
          352,
          331,
          310.5,
          286.5,
          258,
          230,
          196.5,
          163,
          125,
          84,
          81,
          106.5,
          135,
          186.5,
          210.5,
          233.5,
          251.5,
          271,
          287.5,
          303,
          315,
          327.5,
          337.5,
          349,
          362,
          359,
          355.5
         ]
        },
        {
         "line": {
          "width": 4
         },
         "name": "Shot 11",
         "type": "scatter",
         "x": [
          229,
          244,
          262.5,
          280,
          296.5,
          329,
          344,
          360,
          375.5,
          391,
          406,
          420.5,
          437.5,
          453,
          467.5,
          479.5,
          493,
          512,
          524.5,
          541,
          557.5,
          571.5,
          586,
          603,
          617,
          633.5,
          647.5,
          661.5,
          676.5,
          694,
          709.5,
          730,
          730,
          730,
          733.5,
          735,
          735,
          732.5,
          732,
          733.5,
          734.5,
          735.5,
          736.5,
          737,
          737,
          741.5,
          742.5,
          743.5,
          747.5,
          740.5,
          734,
          727,
          720.5,
          717.5,
          707.5,
          701,
          694,
          688.5,
          683,
          675.5,
          669,
          655,
          613.5,
          609.5,
          606.5,
          596.5
         ],
         "y": [
          183,
          230.5,
          323,
          344,
          363.5,
          397.5,
          413,
          426.5,
          439,
          450,
          460,
          469,
          477,
          482.5,
          489,
          494,
          496,
          498,
          499.5,
          500,
          496,
          497,
          490,
          485.5,
          483.5,
          473.5,
          465,
          455,
          443,
          433,
          417.5,
          395.5,
          386,
          377,
          366,
          358.5,
          349,
          337.5,
          324.5,
          312,
          296.5,
          278,
          260,
          238.5,
          217.5,
          192,
          167.5,
          136,
          103.5,
          101,
          123,
          144,
          164.5,
          188,
          203,
          216.5,
          231,
          242.5,
          254,
          265,
          273,
          283.5,
          280,
          272,
          261,
          223
         ]
        },
        {
         "line": {
          "width": 4
         },
         "name": "Shot 12",
         "type": "scatter",
         "x": [
          210,
          187.5,
          200,
          229.5,
          203,
          252,
          267.5,
          283,
          314,
          330,
          345,
          360,
          374.5,
          389,
          404.5,
          419,
          434,
          448.5,
          463.5,
          478.5,
          492.5,
          505.5,
          521,
          535.5,
          549.5,
          565,
          579,
          593.5,
          608,
          626.5,
          640,
          656.5,
          672,
          684.5,
          706,
          703.5
         ],
         "y": [
          135,
          177.5,
          188,
          233,
          259.5,
          344.5,
          365.5,
          384.5,
          419.5,
          434.5,
          448.5,
          461.5,
          472,
          481,
          490,
          498,
          503,
          510,
          513,
          516,
          518.5,
          518.5,
          517.5,
          517,
          510.5,
          506.5,
          503,
          495,
          490.5,
          480.5,
          469,
          455.5,
          442,
          431,
          418.5,
          409
         ]
        },
        {
         "line": {
          "width": 4
         },
         "name": "Shot 13",
         "type": "scatter",
         "visible": "legendonly",
         "x": [
          759.5,
          769,
          774.5,
          786.5,
          790,
          797,
          800.5,
          804,
          813,
          819.5,
          825.5,
          831,
          829,
          828.5,
          827.5,
          826.5,
          825.5
         ],
         "y": [
          334,
          310,
          300.5,
          268,
          250,
          230.5,
          208,
          189,
          166,
          142.5,
          116,
          114,
          131.5,
          149,
          164.5,
          179,
          191.5
         ]
        }
       ],
       "layout": {
        "autosize": true,
        "template": {
         "data": {
          "bar": [
           {
            "error_x": {
             "color": "#2a3f5f"
            },
            "error_y": {
             "color": "#2a3f5f"
            },
            "marker": {
             "line": {
              "color": "#E5ECF6",
              "width": 0.5
             }
            },
            "type": "bar"
           }
          ],
          "barpolar": [
           {
            "marker": {
             "line": {
              "color": "#E5ECF6",
              "width": 0.5
             }
            },
            "type": "barpolar"
           }
          ],
          "carpet": [
           {
            "aaxis": {
             "endlinecolor": "#2a3f5f",
             "gridcolor": "white",
             "linecolor": "white",
             "minorgridcolor": "white",
             "startlinecolor": "#2a3f5f"
            },
            "baxis": {
             "endlinecolor": "#2a3f5f",
             "gridcolor": "white",
             "linecolor": "white",
             "minorgridcolor": "white",
             "startlinecolor": "#2a3f5f"
            },
            "type": "carpet"
           }
          ],
          "choropleth": [
           {
            "colorbar": {
             "outlinewidth": 0,
             "ticks": ""
            },
            "type": "choropleth"
           }
          ],
          "contour": [
           {
            "colorbar": {
             "outlinewidth": 0,
             "ticks": ""
            },
            "colorscale": [
             [
              0,
              "#0d0887"
             ],
             [
              0.1111111111111111,
              "#46039f"
             ],
             [
              0.2222222222222222,
              "#7201a8"
             ],
             [
              0.3333333333333333,
              "#9c179e"
             ],
             [
              0.4444444444444444,
              "#bd3786"
             ],
             [
              0.5555555555555556,
              "#d8576b"
             ],
             [
              0.6666666666666666,
              "#ed7953"
             ],
             [
              0.7777777777777778,
              "#fb9f3a"
             ],
             [
              0.8888888888888888,
              "#fdca26"
             ],
             [
              1,
              "#f0f921"
             ]
            ],
            "type": "contour"
           }
          ],
          "contourcarpet": [
           {
            "colorbar": {
             "outlinewidth": 0,
             "ticks": ""
            },
            "type": "contourcarpet"
           }
          ],
          "heatmap": [
           {
            "colorbar": {
             "outlinewidth": 0,
             "ticks": ""
            },
            "colorscale": [
             [
              0,
              "#0d0887"
             ],
             [
              0.1111111111111111,
              "#46039f"
             ],
             [
              0.2222222222222222,
              "#7201a8"
             ],
             [
              0.3333333333333333,
              "#9c179e"
             ],
             [
              0.4444444444444444,
              "#bd3786"
             ],
             [
              0.5555555555555556,
              "#d8576b"
             ],
             [
              0.6666666666666666,
              "#ed7953"
             ],
             [
              0.7777777777777778,
              "#fb9f3a"
             ],
             [
              0.8888888888888888,
              "#fdca26"
             ],
             [
              1,
              "#f0f921"
             ]
            ],
            "type": "heatmap"
           }
          ],
          "heatmapgl": [
           {
            "colorbar": {
             "outlinewidth": 0,
             "ticks": ""
            },
            "colorscale": [
             [
              0,
              "#0d0887"
             ],
             [
              0.1111111111111111,
              "#46039f"
             ],
             [
              0.2222222222222222,
              "#7201a8"
             ],
             [
              0.3333333333333333,
              "#9c179e"
             ],
             [
              0.4444444444444444,
              "#bd3786"
             ],
             [
              0.5555555555555556,
              "#d8576b"
             ],
             [
              0.6666666666666666,
              "#ed7953"
             ],
             [
              0.7777777777777778,
              "#fb9f3a"
             ],
             [
              0.8888888888888888,
              "#fdca26"
             ],
             [
              1,
              "#f0f921"
             ]
            ],
            "type": "heatmapgl"
           }
          ],
          "histogram": [
           {
            "marker": {
             "colorbar": {
              "outlinewidth": 0,
              "ticks": ""
             }
            },
            "type": "histogram"
           }
          ],
          "histogram2d": [
           {
            "colorbar": {
             "outlinewidth": 0,
             "ticks": ""
            },
            "colorscale": [
             [
              0,
              "#0d0887"
             ],
             [
              0.1111111111111111,
              "#46039f"
             ],
             [
              0.2222222222222222,
              "#7201a8"
             ],
             [
              0.3333333333333333,
              "#9c179e"
             ],
             [
              0.4444444444444444,
              "#bd3786"
             ],
             [
              0.5555555555555556,
              "#d8576b"
             ],
             [
              0.6666666666666666,
              "#ed7953"
             ],
             [
              0.7777777777777778,
              "#fb9f3a"
             ],
             [
              0.8888888888888888,
              "#fdca26"
             ],
             [
              1,
              "#f0f921"
             ]
            ],
            "type": "histogram2d"
           }
          ],
          "histogram2dcontour": [
           {
            "colorbar": {
             "outlinewidth": 0,
             "ticks": ""
            },
            "colorscale": [
             [
              0,
              "#0d0887"
             ],
             [
              0.1111111111111111,
              "#46039f"
             ],
             [
              0.2222222222222222,
              "#7201a8"
             ],
             [
              0.3333333333333333,
              "#9c179e"
             ],
             [
              0.4444444444444444,
              "#bd3786"
             ],
             [
              0.5555555555555556,
              "#d8576b"
             ],
             [
              0.6666666666666666,
              "#ed7953"
             ],
             [
              0.7777777777777778,
              "#fb9f3a"
             ],
             [
              0.8888888888888888,
              "#fdca26"
             ],
             [
              1,
              "#f0f921"
             ]
            ],
            "type": "histogram2dcontour"
           }
          ],
          "mesh3d": [
           {
            "colorbar": {
             "outlinewidth": 0,
             "ticks": ""
            },
            "type": "mesh3d"
           }
          ],
          "parcoords": [
           {
            "line": {
             "colorbar": {
              "outlinewidth": 0,
              "ticks": ""
             }
            },
            "type": "parcoords"
           }
          ],
          "pie": [
           {
            "automargin": true,
            "type": "pie"
           }
          ],
          "scatter": [
           {
            "marker": {
             "colorbar": {
              "outlinewidth": 0,
              "ticks": ""
             }
            },
            "type": "scatter"
           }
          ],
          "scatter3d": [
           {
            "line": {
             "colorbar": {
              "outlinewidth": 0,
              "ticks": ""
             }
            },
            "marker": {
             "colorbar": {
              "outlinewidth": 0,
              "ticks": ""
             }
            },
            "type": "scatter3d"
           }
          ],
          "scattercarpet": [
           {
            "marker": {
             "colorbar": {
              "outlinewidth": 0,
              "ticks": ""
             }
            },
            "type": "scattercarpet"
           }
          ],
          "scattergeo": [
           {
            "marker": {
             "colorbar": {
              "outlinewidth": 0,
              "ticks": ""
             }
            },
            "type": "scattergeo"
           }
          ],
          "scattergl": [
           {
            "marker": {
             "colorbar": {
              "outlinewidth": 0,
              "ticks": ""
             }
            },
            "type": "scattergl"
           }
          ],
          "scattermapbox": [
           {
            "marker": {
             "colorbar": {
              "outlinewidth": 0,
              "ticks": ""
             }
            },
            "type": "scattermapbox"
           }
          ],
          "scatterpolar": [
           {
            "marker": {
             "colorbar": {
              "outlinewidth": 0,
              "ticks": ""
             }
            },
            "type": "scatterpolar"
           }
          ],
          "scatterpolargl": [
           {
            "marker": {
             "colorbar": {
              "outlinewidth": 0,
              "ticks": ""
             }
            },
            "type": "scatterpolargl"
           }
          ],
          "scatterternary": [
           {
            "marker": {
             "colorbar": {
              "outlinewidth": 0,
              "ticks": ""
             }
            },
            "type": "scatterternary"
           }
          ],
          "surface": [
           {
            "colorbar": {
             "outlinewidth": 0,
             "ticks": ""
            },
            "colorscale": [
             [
              0,
              "#0d0887"
             ],
             [
              0.1111111111111111,
              "#46039f"
             ],
             [
              0.2222222222222222,
              "#7201a8"
             ],
             [
              0.3333333333333333,
              "#9c179e"
             ],
             [
              0.4444444444444444,
              "#bd3786"
             ],
             [
              0.5555555555555556,
              "#d8576b"
             ],
             [
              0.6666666666666666,
              "#ed7953"
             ],
             [
              0.7777777777777778,
              "#fb9f3a"
             ],
             [
              0.8888888888888888,
              "#fdca26"
             ],
             [
              1,
              "#f0f921"
             ]
            ],
            "type": "surface"
           }
          ],
          "table": [
           {
            "cells": {
             "fill": {
              "color": "#EBF0F8"
             },
             "line": {
              "color": "white"
             }
            },
            "header": {
             "fill": {
              "color": "#C8D4E3"
             },
             "line": {
              "color": "white"
             }
            },
            "type": "table"
           }
          ]
         },
         "layout": {
          "annotationdefaults": {
           "arrowcolor": "#2a3f5f",
           "arrowhead": 0,
           "arrowwidth": 1
          },
          "coloraxis": {
           "colorbar": {
            "outlinewidth": 0,
            "ticks": ""
           }
          },
          "colorscale": {
           "diverging": [
            [
             0,
             "#8e0152"
            ],
            [
             0.1,
             "#c51b7d"
            ],
            [
             0.2,
             "#de77ae"
            ],
            [
             0.3,
             "#f1b6da"
            ],
            [
             0.4,
             "#fde0ef"
            ],
            [
             0.5,
             "#f7f7f7"
            ],
            [
             0.6,
             "#e6f5d0"
            ],
            [
             0.7,
             "#b8e186"
            ],
            [
             0.8,
             "#7fbc41"
            ],
            [
             0.9,
             "#4d9221"
            ],
            [
             1,
             "#276419"
            ]
           ],
           "sequential": [
            [
             0,
             "#0d0887"
            ],
            [
             0.1111111111111111,
             "#46039f"
            ],
            [
             0.2222222222222222,
             "#7201a8"
            ],
            [
             0.3333333333333333,
             "#9c179e"
            ],
            [
             0.4444444444444444,
             "#bd3786"
            ],
            [
             0.5555555555555556,
             "#d8576b"
            ],
            [
             0.6666666666666666,
             "#ed7953"
            ],
            [
             0.7777777777777778,
             "#fb9f3a"
            ],
            [
             0.8888888888888888,
             "#fdca26"
            ],
            [
             1,
             "#f0f921"
            ]
           ],
           "sequentialminus": [
            [
             0,
             "#0d0887"
            ],
            [
             0.1111111111111111,
             "#46039f"
            ],
            [
             0.2222222222222222,
             "#7201a8"
            ],
            [
             0.3333333333333333,
             "#9c179e"
            ],
            [
             0.4444444444444444,
             "#bd3786"
            ],
            [
             0.5555555555555556,
             "#d8576b"
            ],
            [
             0.6666666666666666,
             "#ed7953"
            ],
            [
             0.7777777777777778,
             "#fb9f3a"
            ],
            [
             0.8888888888888888,
             "#fdca26"
            ],
            [
             1,
             "#f0f921"
            ]
           ]
          },
          "colorway": [
           "#636efa",
           "#EF553B",
           "#00cc96",
           "#ab63fa",
           "#FFA15A",
           "#19d3f3",
           "#FF6692",
           "#B6E880",
           "#FF97FF",
           "#FECB52"
          ],
          "font": {
           "color": "#2a3f5f"
          },
          "geo": {
           "bgcolor": "white",
           "lakecolor": "white",
           "landcolor": "#E5ECF6",
           "showlakes": true,
           "showland": true,
           "subunitcolor": "white"
          },
          "hoverlabel": {
           "align": "left"
          },
          "hovermode": "closest",
          "mapbox": {
           "style": "light"
          },
          "paper_bgcolor": "white",
          "plot_bgcolor": "#E5ECF6",
          "polar": {
           "angularaxis": {
            "gridcolor": "white",
            "linecolor": "white",
            "ticks": ""
           },
           "bgcolor": "#E5ECF6",
           "radialaxis": {
            "gridcolor": "white",
            "linecolor": "white",
            "ticks": ""
           }
          },
          "scene": {
           "xaxis": {
            "backgroundcolor": "#E5ECF6",
            "gridcolor": "white",
            "gridwidth": 2,
            "linecolor": "white",
            "showbackground": true,
            "ticks": "",
            "zerolinecolor": "white"
           },
           "yaxis": {
            "backgroundcolor": "#E5ECF6",
            "gridcolor": "white",
            "gridwidth": 2,
            "linecolor": "white",
            "showbackground": true,
            "ticks": "",
            "zerolinecolor": "white"
           },
           "zaxis": {
            "backgroundcolor": "#E5ECF6",
            "gridcolor": "white",
            "gridwidth": 2,
            "linecolor": "white",
            "showbackground": true,
            "ticks": "",
            "zerolinecolor": "white"
           }
          },
          "shapedefaults": {
           "line": {
            "color": "#2a3f5f"
           }
          },
          "ternary": {
           "aaxis": {
            "gridcolor": "white",
            "linecolor": "white",
            "ticks": ""
           },
           "baxis": {
            "gridcolor": "white",
            "linecolor": "white",
            "ticks": ""
           },
           "bgcolor": "#E5ECF6",
           "caxis": {
            "gridcolor": "white",
            "linecolor": "white",
            "ticks": ""
           }
          },
          "title": {
           "x": 0.05
          },
          "xaxis": {
           "automargin": true,
           "gridcolor": "white",
           "linecolor": "white",
           "ticks": "",
           "title": {
            "standoff": 15
           },
           "zerolinecolor": "white",
           "zerolinewidth": 2
          },
          "yaxis": {
           "automargin": true,
           "gridcolor": "white",
           "linecolor": "white",
           "ticks": "",
           "title": {
            "standoff": 15
           },
           "zerolinecolor": "white",
           "zerolinewidth": 2
          }
         }
        },
        "xaxis": {
         "range": [
          0,
          960
         ],
         "type": "linear"
        },
        "yaxis": {
         "range": [
          0,
          544
         ],
         "type": "linear"
        }
       }
      },
      "image/png": "[encoded data removed]",
      "text/html": [
       "<div>\n",
       "        \n",
       "        \n",
       "            <div id=\"8b1b353f-8c79-41f6-b35f-b4dd6a9f3749\" class=\"plotly-graph-div\" style=\"height:525px; width:100%;\"></div>\n",
       "            <script type=\"text/javascript\">\n",
       "                require([\"plotly\"], function(Plotly) {\n",
       "                    window.PLOTLYENV=window.PLOTLYENV || {};\n",
       "                    \n",
       "                if (document.getElementById(\"8b1b353f-8c79-41f6-b35f-b4dd6a9f3749\")) {\n",
       "                    Plotly.newPlot(\n",
       "                        '8b1b353f-8c79-41f6-b35f-b4dd6a9f3749',\n",
       "                        [{\"line\": {\"width\": 4}, \"name\": \"Shot 2\", \"type\": \"scatter\", \"x\": [254.0, 242.5, 237.0, 230.0, 216.0, 269.5, 287.5, 306.0, 323.0, 339.5, 357.0, 373.5, 390.0, 406.0, 422.5, 439.5, 455.0, 472.0, 487.5, 503.5, 520.0, 535.5, 551.5, 567.5, 583.0, 598.0, 614.5, 630.0, 646.5, 663.5, 678.0, 711.5], \"y\": [205.0, 242.5, 248.0, 253.0, 269.0, 350.0, 369.5, 387.5, 403.5, 419.5, 433.5, 446.0, 457.5, 467.0, 477.0, 482.0, 488.5, 494.0, 497.5, 499.0, 501.5, 504.0, 499.0, 498.5, 492.0, 489.0, 483.5, 476.5, 469.5, 458.0, 449.0, 422.5]}, {\"line\": {\"width\": 4}, \"name\": \"Shot 3\", \"type\": \"scatter\", \"x\": [233.5, 209.5, 252.0, 268.0, 284.5, 301.5, 316.5, 332.0, 347.0, 363.0, 392.5, 408.0, 422.0, 437.5, 451.5, 467.5, 481.0, 495.5, 510.5, 525.5, 539.0, 554.5, 568.5, 581.5, 597.0, 611.5, 629.0, 642.5, 659.5, 673.0, 702.5, 716.0, 728.0, 727.0], \"y\": [236.5, 270.5, 343.0, 363.5, 382.5, 401.5, 418.5, 433.5, 449.0, 461.5, 483.0, 492.5, 500.0, 505.0, 510.5, 515.5, 519.0, 520.0, 522.0, 520.5, 519.0, 515.0, 512.0, 507.5, 501.0, 495.0, 490.0, 475.5, 466.0, 454.5, 426.0, 410.5, 397.0, 395.5]}, {\"line\": {\"width\": 4}, \"name\": \"Shot 4\", \"type\": \"scatter\", \"x\": [245.5, 263.0, 295.0, 310.0, 327.0, 343.5, 356.0, 372.0, 386.5, 401.5, 416.5, 431.0, 444.5, 455.5, 474.0, 486.0, 499.0, 514.0, 528.5, 542.0, 555.5, 570.5, 583.5, 597.5, 609.0, 626.0, 641.0, 655.0, 669.5, 683.0, 698.5], \"y\": [326.0, 350.0, 390.0, 406.0, 423.0, 438.0, 451.0, 463.5, 474.5, 485.0, 493.5, 499.5, 506.0, 511.5, 514.5, 518.5, 520.0, 520.0, 518.0, 515.0, 512.0, 508.5, 502.0, 495.5, 489.5, 480.0, 469.5, 461.0, 444.0, 431.5, 418.0]}, {\"line\": {\"width\": 4}, \"name\": \"Shot 5\", \"type\": \"scatter\", \"x\": [714.0, 711.5, 708.5, 706.5, 703.5, 701.5, 697.5, 696.5, 695.5, 693.0, 691.0, 689.5, 687.5, 687.0, 674.5, 669.5, 662.5, 656.0, 653.0, 649.0, 644.0, 640.5, 637.0, 611.5, 606.5, 604.5, 602.5, 599.0, 597.0, 594.5, 592.5, 590.5, 589.0, 587.5, 586.0, 584.5, 580.0, 576.0, 574.5, 570.5, 567.5, 565.5, 560.5, 558.0, 557.5, 554.0], \"y\": [345.5, 336.5, 324.0, 311.0, 297.5, 279.5, 261.5, 243.0, 223.0, 200.5, 179.5, 152.5, 126.5, 100.5, 123.5, 142.0, 172.5, 191.0, 202.0, 213.5, 223.0, 231.5, 239.5, 249.5, 243.5, 235.0, 229.5, 220.0, 210.5, 198.5, 184.5, 170.5, 154.0, 136.5, 117.0, 97.5, 93.5, 105.5, 117.5, 132.5, 143.5, 153.5, 162.5, 168.5, 174.0, 178.5]}, {\"line\": {\"width\": 4}, \"name\": \"Shot 6\", \"type\": \"scatter\", \"x\": [240.5, 234.5, 227.5, 220.0, 203.0, 236.5, 252.5, 268.0, 285.0, 300.0, 315.0, 330.5, 346.5, 360.0, 375.0, 390.0, 405.0, 419.0, 434.5, 443.0, 460.5, 477.0, 503.5, 517.5, 531.5, 546.5, 560.5, 576.5, 589.0, 603.0, 616.5, 631.0, 644.0, 660.5, 676.5, 694.0, 700.0, 711.0, 712.5, 733.0, 730.0, 733.0, 731.0, 721.0], \"y\": [223.5, 238.0, 243.5, 246.5, 263.5, 334.0, 355.0, 376.0, 394.5, 412.0, 428.0, 442.5, 455.5, 467.5, 478.0, 489.0, 496.5, 503.5, 508.5, 514.5, 517.0, 519.5, 520.5, 520.5, 516.5, 511.5, 507.5, 502.5, 494.5, 487.5, 478.0, 467.0, 455.5, 442.0, 430.5, 427.5, 420.0, 420.0, 422.5, 440.5, 446.5, 453.0, 457.0, 434.0]}, {\"line\": {\"width\": 4}, \"name\": \"Shot 7\", \"type\": \"scatter\", \"x\": [214.0, 249.0, 266.0, 283.5, 300.0, 317.0, 332.0, 348.5, 365.0, 380.5, 395.5, 412.5, 427.5, 442.5, 459.5, 489.0, 505.5, 520.0, 535.0, 549.0, 565.0, 581.0, 597.5, 613.0, 630.5, 645.0, 660.5, 677.5, 691.0, 707.5, 722.0, 728.0], \"y\": [262.5, 333.0, 355.0, 373.5, 391.5, 408.0, 422.5, 436.5, 448.0, 460.5, 470.0, 479.5, 485.0, 492.0, 498.5, 503.0, 507.5, 508.0, 507.0, 502.5, 503.0, 494.5, 491.0, 485.5, 479.5, 469.5, 458.0, 448.0, 435.5, 420.5, 406.5, 397.0]}, {\"line\": {\"width\": 4}, \"name\": \"Shot 8\", \"type\": \"scatter\", \"x\": [255.0, 270.0, 287.5, 304.0, 319.0, 334.5, 350.0, 365.5, 380.0, 394.5, 409.0, 424.5, 439.5, 454.5, 468.5, 482.0, 496.0, 511.5, 526.0, 539.5, 553.5, 568.5, 597.0, 611.0, 625.5, 640.0, 655.0, 670.0, 686.0, 702.5, 714.5, 730.5], \"y\": [343.0, 363.5, 383.0, 401.0, 418.5, 434.0, 448.5, 462.5, 473.5, 484.5, 494.5, 500.5, 507.5, 514.0, 517.0, 522.0, 527.0, 526.0, 528.0, 522.0, 518.0, 516.0, 504.5, 498.5, 493.0, 481.0, 469.5, 459.5, 450.5, 431.5, 416.5, 401.5]}, {\"line\": {\"width\": 4}, \"name\": \"Shot 9\", \"type\": \"scatter\", \"x\": [179.0, 203.0, 236.0, 250.5, 266.5, 280.5, 294.5, 310.0, 324.5, 339.5, 353.5, 368.0, 382.5, 397.0, 409.5, 424.0, 438.0, 450.5, 464.0, 478.0, 491.5, 501.5, 516.5, 531.0, 545.0, 558.5, 571.5, 585.5, 602.5, 618.5, 645.5, 660.0, 674.5, 688.0, 715.5], \"y\": [163.0, 252.5, 333.5, 354.5, 374.5, 394.0, 411.0, 426.5, 441.0, 455.0, 465.5, 477.5, 486.0, 495.5, 502.0, 509.0, 512.0, 518.0, 520.5, 521.5, 520.5, 519.5, 516.5, 513.0, 506.5, 501.5, 494.5, 485.5, 478.0, 470.0, 442.0, 426.5, 414.5, 395.5, 354.5]}, {\"line\": {\"width\": 4}, \"name\": \"Shot 10\", \"type\": \"scatter\", \"x\": [239.0, 233.0, 221.5, 211.0, 255.0, 270.5, 303.0, 318.5, 334.0, 349.0, 364.0, 378.5, 394.0, 410.0, 423.0, 439.0, 452.5, 468.5, 483.0, 494.0, 510.0, 524.5, 538.0, 553.0, 566.5, 582.0, 597.0, 612.5, 627.0, 642.5, 657.5, 674.5, 690.0, 681.5, 665.0, 661.5, 661.5, 649.5, 645.0, 640.5, 636.0, 632.5, 630.5, 624.5, 621.5, 617.0, 613.0, 609.5, 605.5, 601.5, 599.5, 595.5, 593.0, 590.0, 587.0, 584.0, 581.0, 576.5, 572.0, 567.0, 558.0, 553.5, 549.0, 545.0, 541.5, 537.5, 533.5, 530.0, 526.0, 522.5, 518.5, 496.5, 494.0, 493.5], \"y\": [233.5, 236.5, 241.5, 257.5, 336.0, 356.0, 393.0, 407.5, 422.5, 436.5, 448.5, 459.5, 469.0, 479.0, 485.5, 492.0, 499.0, 502.0, 505.0, 508.0, 509.0, 507.5, 505.5, 501.0, 498.0, 491.5, 486.0, 483.0, 470.5, 460.5, 449.0, 436.5, 425.5, 434.5, 445.5, 450.0, 455.5, 449.5, 448.0, 443.5, 433.5, 429.5, 420.5, 410.5, 398.5, 384.0, 366.5, 352.0, 331.0, 310.5, 286.5, 258.0, 230.0, 196.5, 163.0, 125.0, 84.0, 81.0, 106.5, 135.0, 186.5, 210.5, 233.5, 251.5, 271.0, 287.5, 303.0, 315.0, 327.5, 337.5, 349.0, 362.0, 359.0, 355.5]}, {\"line\": {\"width\": 4}, \"name\": \"Shot 11\", \"type\": \"scatter\", \"x\": [229.0, 244.0, 262.5, 280.0, 296.5, 329.0, 344.0, 360.0, 375.5, 391.0, 406.0, 420.5, 437.5, 453.0, 467.5, 479.5, 493.0, 512.0, 524.5, 541.0, 557.5, 571.5, 586.0, 603.0, 617.0, 633.5, 647.5, 661.5, 676.5, 694.0, 709.5, 730.0, 730.0, 730.0, 733.5, 735.0, 735.0, 732.5, 732.0, 733.5, 734.5, 735.5, 736.5, 737.0, 737.0, 741.5, 742.5, 743.5, 747.5, 740.5, 734.0, 727.0, 720.5, 717.5, 707.5, 701.0, 694.0, 688.5, 683.0, 675.5, 669.0, 655.0, 613.5, 609.5, 606.5, 596.5], \"y\": [183.0, 230.5, 323.0, 344.0, 363.5, 397.5, 413.0, 426.5, 439.0, 450.0, 460.0, 469.0, 477.0, 482.5, 489.0, 494.0, 496.0, 498.0, 499.5, 500.0, 496.0, 497.0, 490.0, 485.5, 483.5, 473.5, 465.0, 455.0, 443.0, 433.0, 417.5, 395.5, 386.0, 377.0, 366.0, 358.5, 349.0, 337.5, 324.5, 312.0, 296.5, 278.0, 260.0, 238.5, 217.5, 192.0, 167.5, 136.0, 103.5, 101.0, 123.0, 144.0, 164.5, 188.0, 203.0, 216.5, 231.0, 242.5, 254.0, 265.0, 273.0, 283.5, 280.0, 272.0, 261.0, 223.0]}, {\"line\": {\"width\": 4}, \"name\": \"Shot 12\", \"type\": \"scatter\", \"x\": [210.0, 187.5, 200.0, 229.5, 203.0, 252.0, 267.5, 283.0, 314.0, 330.0, 345.0, 360.0, 374.5, 389.0, 404.5, 419.0, 434.0, 448.5, 463.5, 478.5, 492.5, 505.5, 521.0, 535.5, 549.5, 565.0, 579.0, 593.5, 608.0, 626.5, 640.0, 656.5, 672.0, 684.5, 706.0, 703.5], \"y\": [135.0, 177.5, 188.0, 233.0, 259.5, 344.5, 365.5, 384.5, 419.5, 434.5, 448.5, 461.5, 472.0, 481.0, 490.0, 498.0, 503.0, 510.0, 513.0, 516.0, 518.5, 518.5, 517.5, 517.0, 510.5, 506.5, 503.0, 495.0, 490.5, 480.5, 469.0, 455.5, 442.0, 431.0, 418.5, 409.0]}, {\"line\": {\"width\": 4}, \"name\": \"Shot 13\", \"type\": \"scatter\", \"x\": [759.5, 769.0, 774.5, 786.5, 790.0, 797.0, 800.5, 804.0, 813.0, 819.5, 825.5, 831.0, 829.0, 828.5, 827.5, 826.5, 825.5], \"y\": [334.0, 310.0, 300.5, 268.0, 250.0, 230.5, 208.0, 189.0, 166.0, 142.5, 116.0, 114.0, 131.5, 149.0, 164.5, 179.0, 191.5]}],\n",
       "                        {\"template\": {\"data\": {\"bar\": [{\"error_x\": {\"color\": \"#2a3f5f\"}, \"error_y\": {\"color\": \"#2a3f5f\"}, \"marker\": {\"line\": {\"color\": \"#E5ECF6\", \"width\": 0.5}}, \"type\": \"bar\"}], \"barpolar\": [{\"marker\": {\"line\": {\"color\": \"#E5ECF6\", \"width\": 0.5}}, \"type\": \"barpolar\"}], \"carpet\": [{\"aaxis\": {\"endlinecolor\": \"#2a3f5f\", \"gridcolor\": \"white\", \"linecolor\": \"white\", \"minorgridcolor\": \"white\", \"startlinecolor\": \"#2a3f5f\"}, \"baxis\": {\"endlinecolor\": \"#2a3f5f\", \"gridcolor\": \"white\", \"linecolor\": \"white\", \"minorgridcolor\": \"white\", \"startlinecolor\": \"#2a3f5f\"}, \"type\": \"carpet\"}], \"choropleth\": [{\"colorbar\": {\"outlinewidth\": 0, \"ticks\": \"\"}, \"type\": \"choropleth\"}], \"contour\": [{\"colorbar\": {\"outlinewidth\": 0, \"ticks\": \"\"}, \"colorscale\": [[0.0, \"#0d0887\"], [0.1111111111111111, \"#46039f\"], [0.2222222222222222, \"#7201a8\"], [0.3333333333333333, \"#9c179e\"], [0.4444444444444444, \"#bd3786\"], [0.5555555555555556, \"#d8576b\"], [0.6666666666666666, \"#ed7953\"], [0.7777777777777778, \"#fb9f3a\"], [0.8888888888888888, \"#fdca26\"], [1.0, \"#f0f921\"]], \"type\": \"contour\"}], \"contourcarpet\": [{\"colorbar\": {\"outlinewidth\": 0, \"ticks\": \"\"}, \"type\": \"contourcarpet\"}], \"heatmap\": [{\"colorbar\": {\"outlinewidth\": 0, \"ticks\": \"\"}, \"colorscale\": [[0.0, \"#0d0887\"], [0.1111111111111111, \"#46039f\"], [0.2222222222222222, \"#7201a8\"], [0.3333333333333333, \"#9c179e\"], [0.4444444444444444, \"#bd3786\"], [0.5555555555555556, \"#d8576b\"], [0.6666666666666666, \"#ed7953\"], [0.7777777777777778, \"#fb9f3a\"], [0.8888888888888888, \"#fdca26\"], [1.0, \"#f0f921\"]], \"type\": \"heatmap\"}], \"heatmapgl\": [{\"colorbar\": {\"outlinewidth\": 0, \"ticks\": \"\"}, \"colorscale\": [[0.0, \"#0d0887\"], [0.1111111111111111, \"#46039f\"], [0.2222222222222222, \"#7201a8\"], [0.3333333333333333, \"#9c179e\"], [0.4444444444444444, \"#bd3786\"], [0.5555555555555556, \"#d8576b\"], [0.6666666666666666, \"#ed7953\"], [0.7777777777777778, \"#fb9f3a\"], [0.8888888888888888, \"#fdca26\"], [1.0, \"#f0f921\"]], \"type\": \"heatmapgl\"}], \"histogram\": [{\"marker\": {\"colorbar\": {\"outlinewidth\": 0, \"ticks\": \"\"}}, \"type\": \"histogram\"}], \"histogram2d\": [{\"colorbar\": {\"outlinewidth\": 0, \"ticks\": \"\"}, \"colorscale\": [[0.0, \"#0d0887\"], [0.1111111111111111, \"#46039f\"], [0.2222222222222222, \"#7201a8\"], [0.3333333333333333, \"#9c179e\"], [0.4444444444444444, \"#bd3786\"], [0.5555555555555556, \"#d8576b\"], [0.6666666666666666, \"#ed7953\"], [0.7777777777777778, \"#fb9f3a\"], [0.8888888888888888, \"#fdca26\"], [1.0, \"#f0f921\"]], \"type\": \"histogram2d\"}], \"histogram2dcontour\": [{\"colorbar\": {\"outlinewidth\": 0, \"ticks\": \"\"}, \"colorscale\": [[0.0, \"#0d0887\"], [0.1111111111111111, \"#46039f\"], [0.2222222222222222, \"#7201a8\"], [0.3333333333333333, \"#9c179e\"], [0.4444444444444444, \"#bd3786\"], [0.5555555555555556, \"#d8576b\"], [0.6666666666666666, \"#ed7953\"], [0.7777777777777778, \"#fb9f3a\"], [0.8888888888888888, \"#fdca26\"], [1.0, \"#f0f921\"]], \"type\": \"histogram2dcontour\"}], \"mesh3d\": [{\"colorbar\": {\"outlinewidth\": 0, \"ticks\": \"\"}, \"type\": \"mesh3d\"}], \"parcoords\": [{\"line\": {\"colorbar\": {\"outlinewidth\": 0, \"ticks\": \"\"}}, \"type\": \"parcoords\"}], \"pie\": [{\"automargin\": true, \"type\": \"pie\"}], \"scatter\": [{\"marker\": {\"colorbar\": {\"outlinewidth\": 0, \"ticks\": \"\"}}, \"type\": \"scatter\"}], \"scatter3d\": [{\"line\": {\"colorbar\": {\"outlinewidth\": 0, \"ticks\": \"\"}}, \"marker\": {\"colorbar\": {\"outlinewidth\": 0, \"ticks\": \"\"}}, \"type\": \"scatter3d\"}], \"scattercarpet\": [{\"marker\": {\"colorbar\": {\"outlinewidth\": 0, \"ticks\": \"\"}}, \"type\": \"scattercarpet\"}], \"scattergeo\": [{\"marker\": {\"colorbar\": {\"outlinewidth\": 0, \"ticks\": \"\"}}, \"type\": \"scattergeo\"}], \"scattergl\": [{\"marker\": {\"colorbar\": {\"outlinewidth\": 0, \"ticks\": \"\"}}, \"type\": \"scattergl\"}], \"scattermapbox\": [{\"marker\": {\"colorbar\": {\"outlinewidth\": 0, \"ticks\": \"\"}}, \"type\": \"scattermapbox\"}], \"scatterpolar\": [{\"marker\": {\"colorbar\": {\"outlinewidth\": 0, \"ticks\": \"\"}}, \"type\": \"scatterpolar\"}], \"scatterpolargl\": [{\"marker\": {\"colorbar\": {\"outlinewidth\": 0, \"ticks\": \"\"}}, \"type\": \"scatterpolargl\"}], \"scatterternary\": [{\"marker\": {\"colorbar\": {\"outlinewidth\": 0, \"ticks\": \"\"}}, \"type\": \"scatterternary\"}], \"surface\": [{\"colorbar\": {\"outlinewidth\": 0, \"ticks\": \"\"}, \"colorscale\": [[0.0, \"#0d0887\"], [0.1111111111111111, \"#46039f\"], [0.2222222222222222, \"#7201a8\"], [0.3333333333333333, \"#9c179e\"], [0.4444444444444444, \"#bd3786\"], [0.5555555555555556, \"#d8576b\"], [0.6666666666666666, \"#ed7953\"], [0.7777777777777778, \"#fb9f3a\"], [0.8888888888888888, \"#fdca26\"], [1.0, \"#f0f921\"]], \"type\": \"surface\"}], \"table\": [{\"cells\": {\"fill\": {\"color\": \"#EBF0F8\"}, \"line\": {\"color\": \"white\"}}, \"header\": {\"fill\": {\"color\": \"#C8D4E3\"}, \"line\": {\"color\": \"white\"}}, \"type\": \"table\"}]}, \"layout\": {\"annotationdefaults\": {\"arrowcolor\": \"#2a3f5f\", \"arrowhead\": 0, \"arrowwidth\": 1}, \"coloraxis\": {\"colorbar\": {\"outlinewidth\": 0, \"ticks\": \"\"}}, \"colorscale\": {\"diverging\": [[0, \"#8e0152\"], [0.1, \"#c51b7d\"], [0.2, \"#de77ae\"], [0.3, \"#f1b6da\"], [0.4, \"#fde0ef\"], [0.5, \"#f7f7f7\"], [0.6, \"#e6f5d0\"], [0.7, \"#b8e186\"], [0.8, \"#7fbc41\"], [0.9, \"#4d9221\"], [1, \"#276419\"]], \"sequential\": [[0.0, \"#0d0887\"], [0.1111111111111111, \"#46039f\"], [0.2222222222222222, \"#7201a8\"], [0.3333333333333333, \"#9c179e\"], [0.4444444444444444, \"#bd3786\"], [0.5555555555555556, \"#d8576b\"], [0.6666666666666666, \"#ed7953\"], [0.7777777777777778, \"#fb9f3a\"], [0.8888888888888888, \"#fdca26\"], [1.0, \"#f0f921\"]], \"sequentialminus\": [[0.0, \"#0d0887\"], [0.1111111111111111, \"#46039f\"], [0.2222222222222222, \"#7201a8\"], [0.3333333333333333, \"#9c179e\"], [0.4444444444444444, \"#bd3786\"], [0.5555555555555556, \"#d8576b\"], [0.6666666666666666, \"#ed7953\"], [0.7777777777777778, \"#fb9f3a\"], [0.8888888888888888, \"#fdca26\"], [1.0, \"#f0f921\"]]}, \"colorway\": [\"#636efa\", \"#EF553B\", \"#00cc96\", \"#ab63fa\", \"#FFA15A\", \"#19d3f3\", \"#FF6692\", \"#B6E880\", \"#FF97FF\", \"#FECB52\"], \"font\": {\"color\": \"#2a3f5f\"}, \"geo\": {\"bgcolor\": \"white\", \"lakecolor\": \"white\", \"landcolor\": \"#E5ECF6\", \"showlakes\": true, \"showland\": true, \"subunitcolor\": \"white\"}, \"hoverlabel\": {\"align\": \"left\"}, \"hovermode\": \"closest\", \"mapbox\": {\"style\": \"light\"}, \"paper_bgcolor\": \"white\", \"plot_bgcolor\": \"#E5ECF6\", \"polar\": {\"angularaxis\": {\"gridcolor\": \"white\", \"linecolor\": \"white\", \"ticks\": \"\"}, \"bgcolor\": \"#E5ECF6\", \"radialaxis\": {\"gridcolor\": \"white\", \"linecolor\": \"white\", \"ticks\": \"\"}}, \"scene\": {\"xaxis\": {\"backgroundcolor\": \"#E5ECF6\", \"gridcolor\": \"white\", \"gridwidth\": 2, \"linecolor\": \"white\", \"showbackground\": true, \"ticks\": \"\", \"zerolinecolor\": \"white\"}, \"yaxis\": {\"backgroundcolor\": \"#E5ECF6\", \"gridcolor\": \"white\", \"gridwidth\": 2, \"linecolor\": \"white\", \"showbackground\": true, \"ticks\": \"\", \"zerolinecolor\": \"white\"}, \"zaxis\": {\"backgroundcolor\": \"#E5ECF6\", \"gridcolor\": \"white\", \"gridwidth\": 2, \"linecolor\": \"white\", \"showbackground\": true, \"ticks\": \"\", \"zerolinecolor\": \"white\"}}, \"shapedefaults\": {\"line\": {\"color\": \"#2a3f5f\"}}, \"ternary\": {\"aaxis\": {\"gridcolor\": \"white\", \"linecolor\": \"white\", \"ticks\": \"\"}, \"baxis\": {\"gridcolor\": \"white\", \"linecolor\": \"white\", \"ticks\": \"\"}, \"bgcolor\": \"#E5ECF6\", \"caxis\": {\"gridcolor\": \"white\", \"linecolor\": \"white\", \"ticks\": \"\"}}, \"title\": {\"x\": 0.05}, \"xaxis\": {\"automargin\": true, \"gridcolor\": \"white\", \"linecolor\": \"white\", \"ticks\": \"\", \"title\": {\"standoff\": 15}, \"zerolinecolor\": \"white\", \"zerolinewidth\": 2}, \"yaxis\": {\"automargin\": true, \"gridcolor\": \"white\", \"linecolor\": \"white\", \"ticks\": \"\", \"title\": {\"standoff\": 15}, \"zerolinecolor\": \"white\", \"zerolinewidth\": 2}}}, \"xaxis\": {\"range\": [0, 960.0]}, \"yaxis\": {\"range\": [0, 544.0]}},\n",
       "                        {\"responsive\": true}\n",
       "                    ).then(function(){\n",
       "                            \n",
       "var gd = document.getElementById('8b1b353f-8c79-41f6-b35f-b4dd6a9f3749');\n",
       "var x = new MutationObserver(function (mutations, observer) {{\n",
       "        var display = window.getComputedStyle(gd).display;\n",
       "        if (!display || display === 'none') {{\n",
       "            console.log([gd, 'removed!']);\n",
       "            Plotly.purge(gd);\n",
       "            observer.disconnect();\n",
       "        }}\n",
       "}});\n",
       "\n",
       "// Listen for the removal of the full notebook cells\n",
       "var notebookContainer = gd.closest('#notebook-container');\n",
       "if (notebookContainer) {{\n",
       "    x.observe(notebookContainer, {childList: true});\n",
       "}}\n",
       "\n",
       "// Listen for the clearing of the current output cell\n",
       "var outputEl = gd.closest('.output');\n",
       "if (outputEl) {{\n",
       "    x.observe(outputEl, {childList: true});\n",
       "}}\n",
       "\n",
       "                        })\n",
       "                };\n",
       "                });\n",
       "            </script>\n",
       "        </div>"
      ]
     },
     "metadata": {},
     "output_type": "display_data"
    }
   ],
   "source": [
    "fig = go.Figure()\n",
    "fig.update_xaxes(range=[0, frame_dim[0]])\n",
    "fig.update_yaxes(range=[0, frame_dim[1]])\n",
    "\n",
    "\n",
    "for name, group in bball_info_df.groupby('shot_idx'):\n",
    "    trace = go.Scatter(line = dict(width=4))\n",
    "    trace.name = f\"Shot {name}\"\n",
    "    trace.x = group['x'] + group['width']/2\n",
    "    trace.y = frame_dim[1] - (group['y'] + group['height']/2)\n",
    "    fig.add_trace(trace)\n",
    "\n",
    "    \n",
    "fig.show()"
   ]
  },
  {
   "cell_type": "markdown",
   "metadata": {},
   "source": [
    "# Function to plot basketball bounding box"
   ]
  },
  {
   "cell_type": "code",
   "execution_count": 132,
   "metadata": {},
   "outputs": [],
   "source": [
    "def plot_bball_bbox(output_frame, bball_info_df, frame_idx):\n",
    "\n",
    "    # find corresponding bball blob information in frame_idx\n",
    "    bball = bball_info_df[(bball_info_df['frame_idx'] == frame_idx) &\n",
    "                          (bball_info_df['is_bball'])]\n",
    "    \n",
    "    for _, blob in bball.iterrows():\n",
    "        x, y, w, h = int(blob['x']), int(blob['y']), int(blob['width']), int(blob['height'])\n",
    "        cv2.rectangle(output_frame, (x, y), (x + w, y + h), (0, 255, 0), 2)\n",
    "        cv2.putText(output_frame, \"Basketball!\", (x, y),\n",
    "                    cv2.FONT_HERSHEY_SIMPLEX, 0.5, (0, 0, 255), 2)\n",
    "        \n",
    "    return output_frame"
   ]
  },
  {
   "cell_type": "markdown",
   "metadata": {},
   "source": [
    "# Function to plot basketball centroid"
   ]
  },
  {
   "cell_type": "code",
   "execution_count": 133,
   "metadata": {},
   "outputs": [],
   "source": [
    "def plot_bball_centroid(output_frame, bball_info_df, frame_idx):\n",
    "    \n",
    "    # find corresponding bball blob information in frame_idx\n",
    "    bball = bball_info_df[(bball_info_df['frame_idx'] == frame_idx) &\n",
    "                          (bball_info_df['is_bball'])]\n",
    "    \n",
    "    for _, blob in bball.iterrows():\n",
    "        x, y, w, h = int(blob['x']), int(blob['y']), int(blob['width']), int(blob['height'])\n",
    "        c_x, c_y = int(x + w/2), int(y+h/2)\n",
    "        \n",
    "        cv2.circle(output_frame,(c_x,c_y), 5, (0,255,0), -1)\n",
    "        \n",
    "    return output_frame"
   ]
  },
  {
   "cell_type": "markdown",
   "metadata": {},
   "source": [
    "# Plot Shot Arcs on Video"
   ]
  },
  {
   "cell_type": "code",
   "execution_count": 134,
   "metadata": {},
   "outputs": [],
   "source": [
    "prev_shots_frame = np.zeros((int(frame_dim[1]),\n",
    "                             int(frame_dim[0]),\n",
    "                             3), dtype = \"uint8\")\n",
    "\n",
    "cur_shots_frame  = np.zeros((int(frame_dim[1]),\n",
    "                             int(frame_dim[0]),\n",
    "                             3), dtype = \"uint8\")"
   ]
  },
  {
   "cell_type": "code",
   "execution_count": 59,
   "metadata": {},
   "outputs": [
    {
     "data": {
      "text/plain": [
       "(544, 960, 3)"
      ]
     },
     "execution_count": 59,
     "metadata": {},
     "output_type": "execute_result"
    }
   ],
   "source": [
    "cur_shots_frame.shape"
   ]
  },
  {
   "cell_type": "code",
   "execution_count": 138,
   "metadata": {},
   "outputs": [],
   "source": [
    "def plot_bball_arc(video, bball_info_df):\n",
    "    video.read()[1]\n",
    "    \n",
    "    # frame to hold all previous shot basketball locations\n",
    "    prev_shots_frame = np.zeros((int(frame_dim[1]),\n",
    "                                 int(frame_dim[0]),\n",
    "                                 3), dtype = \"uint8\")\n",
    "    # frame to hold all current shot basketball locations\n",
    "    cur_shots_frame  = np.zeros((int(frame_dim[1]),\n",
    "                                 int(frame_dim[0]),\n",
    "                                 3), dtype = \"uint8\")\n",
    "    \n",
    "    frame_idx = 0\n",
    "    cur_shot_idx = bball_info_df['shot_idx'].iloc[0]\n",
    "    while(video.isOpened()):\n",
    "        frame_idx += 1\n",
    "        ret, cur_frame = video.read()\n",
    "        if not ret:\n",
    "            break\n",
    "        \n",
    "        # get the bball blob info corresponding to current frame\n",
    "        bball_shot_row = bball_info_df[bball_info_df['frame_idx']==frame_idx]\n",
    "        # if there is a basketball\n",
    "        if bball_shot_row.shape[0] > 0:\n",
    "            bball_shot_idx = bball_shot_row['shot_idx'].iloc[0]\n",
    "            if bball_shot_idx != cur_shot_idx:\n",
    "                cur_shot_idx = bball_shot_idx\n",
    "                # make shots red instead of green\n",
    "                cur_shots_frame[np.all((cur_shots_frame==[0,255,0]), axis = -1)] = [0,0,130]\n",
    "                prev_shots_frame = cv2.bitwise_or(prev_shots_frame,\n",
    "                                                  cur_shots_frame)\n",
    "                prev_shots_frame = prev_shots_frame\n",
    "                cur_shots_frame  = np.zeros((int(frame_dim[1]),\n",
    "                                             int(frame_dim[0]),\n",
    "                                             3), dtype = \"uint8\")\n",
    "\n",
    "        \n",
    "        bball_bbox_frame = cur_frame.copy()\n",
    "        bball_bbox_frame = plot_bball_bbox(bball_bbox_frame, bball_info_df, frame_idx)\n",
    "        cur_shots_frame = plot_bball_centroid(cur_shots_frame, bball_info_df, frame_idx)\n",
    "\n",
    "\n",
    "        f = {\n",
    "            (0,0): cur_frame,\n",
    "            (0,1): bball_bbox_frame,\n",
    "            (1,0): cv2.bitwise_or(prev_shots_frame, cur_shots_frame),\n",
    "            (1,1): cv2.bitwise_or(cv2.bitwise_or(cur_frame, prev_shots_frame), cur_shots_frame)\n",
    "        }\n",
    "        \n",
    "        r = combine_frames((2,2), f, 1200)\n",
    "        cv2.imshow('Basketball Labeled', r)\n",
    "\n",
    "\n",
    "        if cv2.waitKey(1) & 0xFF == ord('q'):\n",
    "            break\n",
    "\n",
    "\n",
    "    video.release()\n",
    "    cv2.destroyAllWindows()\n",
    "    cv2.waitKey(1)"
   ]
  },
  {
   "cell_type": "code",
   "execution_count": 141,
   "metadata": {},
   "outputs": [],
   "source": [
    "video = cv2.VideoCapture(\"../data/shooting_vids/shooting3.mp4\")\n",
    "\n",
    "plot_bball_arc(video, bball_info_df)"
   ]
  },
  {
   "cell_type": "code",
   "execution_count": null,
   "metadata": {},
   "outputs": [],
   "source": []
  },
  {
   "cell_type": "code",
   "execution_count": null,
   "metadata": {},
   "outputs": [],
   "source": []
  },
  {
   "cell_type": "code",
   "execution_count": null,
   "metadata": {},
   "outputs": [],
   "source": []
  }
 ],
 "metadata": {
  "kernelspec": {
   "display_name": "Python 3",
   "language": "python",
   "name": "python3"
  },
  "language_info": {
   "codemirror_mode": {
    "name": "ipython",
    "version": 3
   },
   "file_extension": ".py",
   "mimetype": "text/x-python",
   "name": "python",
   "nbconvert_exporter": "python",
   "pygments_lexer": "ipython3",
   "version": "3.7.7"
  }
 },
 "nbformat": 4,
 "nbformat_minor": 4
}
